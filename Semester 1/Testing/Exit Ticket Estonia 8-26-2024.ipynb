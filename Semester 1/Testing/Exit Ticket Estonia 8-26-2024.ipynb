{
 "cells": [
  {
   "cell_type": "code",
   "execution_count": 5,
   "id": "7ec98bc1",
   "metadata": {},
   "outputs": [
    {
     "data": {
      "text/html": [
       "<div>\n",
       "<style scoped>\n",
       "    .dataframe tbody tr th:only-of-type {\n",
       "        vertical-align: middle;\n",
       "    }\n",
       "\n",
       "    .dataframe tbody tr th {\n",
       "        vertical-align: top;\n",
       "    }\n",
       "\n",
       "    .dataframe thead th {\n",
       "        text-align: right;\n",
       "    }\n",
       "</style>\n",
       "<table border=\"1\" class=\"dataframe\">\n",
       "  <thead>\n",
       "    <tr style=\"text-align: right;\">\n",
       "      <th></th>\n",
       "      <th>Male</th>\n",
       "      <th>Female</th>\n",
       "    </tr>\n",
       "  </thead>\n",
       "  <tbody>\n",
       "    <tr>\n",
       "      <th>Survived</th>\n",
       "      <td>21.868787</td>\n",
       "      <td>5.555556</td>\n",
       "    </tr>\n",
       "    <tr>\n",
       "      <th>Died</th>\n",
       "      <td>78.131213</td>\n",
       "      <td>94.444444</td>\n",
       "    </tr>\n",
       "  </tbody>\n",
       "</table>\n",
       "</div>"
      ],
      "text/plain": [
       "               Male     Female\n",
       "Survived  21.868787   5.555556\n",
       "Died      78.131213  94.444444"
      ]
     },
     "execution_count": 5,
     "metadata": {},
     "output_type": "execute_result"
    }
   ],
   "source": [
    "import pandas as pd\n",
    "data = pd.read_csv('estonia.csv')\n",
    "\n",
    "totalMales = 503\n",
    "totalFemales = 486\n",
    "maleSurvived = 0\n",
    "maleDied = 0\n",
    "femaleSurvived = 0\n",
    "femaleDied = 0\n",
    "\n",
    "for idx in range(len(data)):\n",
    "    if data.loc[idx][\"Survived\"] == 0 and data.loc[idx][\"Sex\"] == \"M\":\n",
    "        maleDied += 1\n",
    "    elif data.loc[idx][\"Survived\"] == 1 and data.loc[idx][\"Sex\"] == \"M\":\n",
    "        maleSurvived += 1\n",
    "    elif data.loc[idx][\"Survived\"] == 0 and data.loc[idx][\"Sex\"] == \"F\":\n",
    "        femaleDied += 1\n",
    "    elif data.loc[idx][\"Survived\"] == 1 and data.loc[idx][\"Sex\"] == \"F\":\n",
    "        femaleSurvived += 1\n",
    "        \n",
    "conTable = pd.DataFrame({\n",
    "    \"Male\": [maleSurvived/totalMales * 100, maleDied / totalMales * 100],\n",
    "    \"Female\": [femaleSurvived/totalFemales * 100, femaleDied / totalFemales * 100]})\n",
    "conTable.index = [\"Survived\", \"Died\"]\n",
    "conTable"
   ]
  },
  {
   "cell_type": "code",
   "execution_count": null,
   "id": "a39a6664",
   "metadata": {},
   "outputs": [],
   "source": []
  }
 ],
 "metadata": {
  "kernelspec": {
   "display_name": "Python 3 (ipykernel)",
   "language": "python",
   "name": "python3"
  },
  "language_info": {
   "codemirror_mode": {
    "name": "ipython",
    "version": 3
   },
   "file_extension": ".py",
   "mimetype": "text/x-python",
   "name": "python",
   "nbconvert_exporter": "python",
   "pygments_lexer": "ipython3",
   "version": "3.9.13"
  }
 },
 "nbformat": 4,
 "nbformat_minor": 5
}
