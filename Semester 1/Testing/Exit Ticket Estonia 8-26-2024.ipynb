{
 "cells": [
  {
   "cell_type": "code",
   "execution_count": 1,
   "id": "7ec98bc1",
   "metadata": {},
   "outputs": [
    {
     "data": {
      "text/plain": [
       "<bound method NDFrame.head of      PassengerId  Country             Firstname  Lastname Sex  Age Category  \\\n",
       "0              1   Sweden           ARVID KALLE     AADLI   M   62        P   \n",
       "1              2  Estonia                   LEA   AALISTE   F   22        C   \n",
       "2              3  Estonia                  AIRI   AAVASTE   F   21        C   \n",
       "3              4   Sweden                  JURI     AAVIK   M   53        C   \n",
       "4              5   Sweden       BRITTA ELISABET  AHLSTROM   F   55        P   \n",
       "..           ...      ...                   ...       ...  ..  ...      ...   \n",
       "984          985   Sweden  ANNA INGRID BIRGITTA    OSTROM   F   60        P   \n",
       "985          986   Sweden          ELMAR MIKAEL       OUN   M   34        P   \n",
       "986          987   Sweden                   ENN   QUNAPUU   M   77        P   \n",
       "987          988   Sweden                    LY   GUNAPUU   F   87        P   \n",
       "988          989   Sweden                  CARL    OVBERG   M   42        P   \n",
       "\n",
       "     Survived  \n",
       "0           0  \n",
       "1           0  \n",
       "2           0  \n",
       "3           0  \n",
       "4           0  \n",
       "..        ...  \n",
       "984         0  \n",
       "985         1  \n",
       "986         0  \n",
       "987         0  \n",
       "988         1  \n",
       "\n",
       "[989 rows x 8 columns]>"
      ]
     },
     "execution_count": 1,
     "metadata": {},
     "output_type": "execute_result"
    }
   ],
   "source": [
    "import pandas as pd\n",
    "data = pd.read_csv('estonia.csv')\n"
   ]
  },
  {
   "cell_type": "code",
   "execution_count": null,
   "id": "a39a6664",
   "metadata": {},
   "outputs": [],
   "source": []
  }
 ],
 "metadata": {
  "kernelspec": {
   "display_name": "Python 3 (ipykernel)",
   "language": "python",
   "name": "python3"
  },
  "language_info": {
   "codemirror_mode": {
    "name": "ipython",
    "version": 3
   },
   "file_extension": ".py",
   "mimetype": "text/x-python",
   "name": "python",
   "nbconvert_exporter": "python",
   "pygments_lexer": "ipython3",
   "version": "3.9.13"
  }
 },
 "nbformat": 4,
 "nbformat_minor": 5
}
