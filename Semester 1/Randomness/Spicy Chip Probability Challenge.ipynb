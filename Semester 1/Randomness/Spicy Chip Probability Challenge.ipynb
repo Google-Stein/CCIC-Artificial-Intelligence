{
 "cells": [
  {
   "cell_type": "code",
   "execution_count": 1,
   "id": "4aeca9c9",
   "metadata": {},
   "outputs": [
    {
     "name": "stdout",
     "output_type": "stream",
     "text": [
      "The probability of getting a hot chip on the first run is 16.76 %\n"
     ]
    }
   ],
   "source": [
    "import random\n",
    "\n",
    "hotchip = 0\n",
    "regularchip = 0\n",
    "chipTotal = 0\n",
    "\n",
    "for chipTotal in range(10000):\n",
    "    '''calc probability'''\n",
    "    if random.randint(1, 6) == 1:\n",
    "        hotchip += 1\n",
    "        chipTotal += 1\n",
    "    else:\n",
    "        regularchip += 1\n",
    "        chipTotal += 1\n",
    "\n",
    "prob = (hotchip / chipTotal) * 100\n",
    "print(\"The probability of getting a hot chip on the first run is\",prob,\"%\")\n",
    "        \n",
    "    "
   ]
  },
  {
   "cell_type": "markdown",
   "id": "3fb30bd4",
   "metadata": {},
   "source": [
    "### My theoretical probability of receiving a chip is 1/6 or 16.666...%\n",
    "### My emperical probaility is 16.665301% over 100,000,000 trails tested"
   ]
  },
  {
   "cell_type": "code",
   "execution_count": 3,
   "id": "c528133e",
   "metadata": {},
   "outputs": [
    {
     "name": "stdout",
     "output_type": "stream",
     "text": [
      "The probability of getting a hot chip on the first run is 33.989999999999995 %\n"
     ]
    }
   ],
   "source": [
    "hotchip = 0\n",
    "regularchip = 0\n",
    "chipTotal = 0\n",
    "\n",
    "for chipTotal in range(10000):\n",
    "    '''calc probability'''\n",
    "    if random.randint(1, 6) <= 2 :\n",
    "        hotchip += 1\n",
    "        chipTotal += 1\n",
    "    else:\n",
    "        regularchip += 1\n",
    "        chipTotal += 1\n",
    "\n",
    "prob = (hotchip / chipTotal) * 100\n",
    "print(\"The probability of getting a hot chip on the first run is\",prob,\"%\")\n",
    "        \n",
    "    "
   ]
  },
  {
   "cell_type": "code",
   "execution_count": 4,
   "id": "a07962ef",
   "metadata": {},
   "outputs": [
    {
     "name": "stdout",
     "output_type": "stream",
     "text": [
      "The probability of getting a hot chip on the first run is 20.01945 %\n"
     ]
    }
   ],
   "source": [
    "hotchip = 0\n",
    "regularchip = 0\n",
    "chipTotal = 0\n",
    "\n",
    "for chipTotal in range(2000000):\n",
    "    '''calc probability'''\n",
    "    if random.randint(1, 5) <= 1 :\n",
    "        hotchip += 1\n",
    "        chipTotal += 1\n",
    "    else:\n",
    "        regularchip += 1\n",
    "        chipTotal += 1\n",
    "\n",
    "prob = (hotchip / chipTotal) * 100\n",
    "print(\"The probability of getting a hot chip on the first run is\",prob,\"%\")\n",
    "        \n",
    "    "
   ]
  },
  {
   "cell_type": "code",
   "execution_count": 5,
   "id": "94e03090",
   "metadata": {},
   "outputs": [
    {
     "name": "stdout",
     "output_type": "stream",
     "text": [
      "Percentage probability of having duplicate values: 52.00%\n"
     ]
    }
   ],
   "source": [
    "def generate_random_numbers(num_iterations=23, lower_bound=1, upper_bound=356):\n",
    "    random_numbers = [random.randint(lower_bound, upper_bound) for _ in range(num_iterations)]\n",
    "    return random_numbers\n",
    "\n",
    "def find_duplicates(numbers):\n",
    "    seen = set()\n",
    "    duplicates = set()\n",
    "\n",
    "    for number in numbers:\n",
    "        if number in seen:\n",
    "            duplicates.add(number)\n",
    "        else:\n",
    "            seen.add(number)\n",
    "\n",
    "    return list(duplicates)\n",
    "\n",
    "def calculate_duplicate_probability(num_trials=1000, num_iterations=23):\n",
    "    duplicates_count = 0\n",
    "\n",
    "    for _ in range(num_trials):\n",
    "        random_values = generate_random_numbers(num_iterations)\n",
    "        if find_duplicates(random_values):\n",
    "            duplicates_count += 1\n",
    "\n",
    "    probability = (duplicates_count / num_trials) * 100\n",
    "    return probability\n",
    "\n",
    "# Example usage\n",
    "num_trials = 10000  # You can change this value to manipulate the number of trials\n",
    "duplicate_probability = calculate_duplicate_probability(num_trials)\n",
    "print(f\"Percentage probability of having duplicate values: {duplicate_probability:.2f}%\")\n"
   ]
  },
  {
   "cell_type": "code",
   "execution_count": 17,
   "id": "11fa05b0",
   "metadata": {},
   "outputs": [
    {
     "name": "stdout",
     "output_type": "stream",
     "text": [
      "Empirical probability of drawing a queen or king: 15.3384\n"
     ]
    }
   ],
   "source": [
    "def create_deck():\n",
    "    suits = ['Hearts', 'Diamonds', 'Clubs', 'Spades']\n",
    "    ranks = ['2', '3', '4', '5', '6', '7', '8', '9', '10', 'Jack', 'Queen', 'King', 'Ace']\n",
    "    deck = [rank + ' of ' + suit for suit in suits for rank in ranks]\n",
    "    return deck\n",
    "\n",
    "def draw_card(deck):\n",
    "    return random.choice(deck)\n",
    "\n",
    "def calculate_queen_probability(num_trials=10000):\n",
    "    deck = create_deck()\n",
    "    queen_count = 0\n",
    "\n",
    "    for _ in range(num_trials):\n",
    "        drawn_card = draw_card(deck)\n",
    "        if 'Queen' in drawn_card:\n",
    "            queen_count += 1\n",
    "\n",
    "    probabilityQ = queen_count / num_trials\n",
    "    return probabilityQ\n",
    "\n",
    "def calculate_king_probability(num_trials=10000):\n",
    "    deck = create_deck()\n",
    "    king_count = 0\n",
    "\n",
    "    for _ in range(num_trials):\n",
    "        drawn_card = draw_card(deck)\n",
    "        if 'King' in drawn_card:\n",
    "            king_count += 1\n",
    "\n",
    "    probabilityK = king_count / num_trials\n",
    "    return probabilityK\n",
    "\n",
    "num_trials = 1000000\n",
    "true_probability = ((calculate_queen_probability(num_trials)) * 100) + ((calculate_king_probability(num_trials)) * 100)\n",
    "print(\"Empirical probability of drawing a queen or king:\",true_probability)\n"
   ]
  },
  {
   "cell_type": "code",
   "execution_count": 46,
   "id": "45211d13-98f1-4fbb-a422-1d25289d1f8f",
   "metadata": {},
   "outputs": [
    {
     "name": "stdout",
     "output_type": "stream",
     "text": [
      "Empirical probability of drawing a queen or heart: 30.723323\n"
     ]
    }
   ],
   "source": [
    "def create_deck():\n",
    "    suits = ['Hearts', 'Diamonds', 'Clubs', 'Spades']\n",
    "    ranks = ['2', '3', '4', '5', '6', '7', '8', '9', '10', 'Jack', 'Queen', 'King', 'Ace']\n",
    "    deck = [rank + ' of ' + suit for suit in suits for rank in ranks]\n",
    "    return deck\n",
    "\n",
    "def draw_card(deck):\n",
    "    return random.choice(deck)\n",
    "\n",
    "def calculate_queen_probability(num_trials):\n",
    "    deck = create_deck()\n",
    "    queen_count = 0\n",
    "\n",
    "    for _ in range(num_trials):\n",
    "        drawn_card = draw_card(deck)\n",
    "        if 'Queen' in drawn_card:\n",
    "            queen_count += 1\n",
    "\n",
    "    probabilityQ = queen_count / num_trials\n",
    "    return probabilityQ\n",
    "\n",
    "def calculate_heart_probability(num_trials):\n",
    "    deck = create_deck()\n",
    "    heart_count = 0\n",
    "\n",
    "    for _ in range(num_trials):\n",
    "        drawn_card = draw_card(deck)\n",
    "        if 'Hearts' in drawn_card:\n",
    "            heart_count += 1\n",
    "\n",
    "    probabilityH = heart_count / num_trials\n",
    "    return probabilityH\n",
    "\n",
    "num_trials = 1000000\n",
    "true_probability = (((calculate_queen_probability(num_trials)) * 100) + ((calculate_heart_probability(num_trials)) * 100) - 1.923077 )\n",
    "print(\"Empirical probability of drawing a queen or heart:\",true_probability)\n"
   ]
  },
  {
   "cell_type": "code",
   "execution_count": null,
   "id": "4e7f07c1",
   "metadata": {},
   "outputs": [],
   "source": []
  }
 ],
 "metadata": {
  "kernelspec": {
   "display_name": "Python 3 (ipykernel)",
   "language": "python",
   "name": "python3"
  },
  "language_info": {
   "codemirror_mode": {
    "name": "ipython",
    "version": 3
   },
   "file_extension": ".py",
   "mimetype": "text/x-python",
   "name": "python",
   "nbconvert_exporter": "python",
   "pygments_lexer": "ipython3",
   "version": "3.12.4"
  }
 },
 "nbformat": 4,
 "nbformat_minor": 5
}
