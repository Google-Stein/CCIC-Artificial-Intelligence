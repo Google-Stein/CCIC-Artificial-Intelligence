{
 "cells": [
  {
   "cell_type": "code",
   "execution_count": 16,
   "id": "b1f90c81",
   "metadata": {},
   "outputs": [
    {
     "name": "stdout",
     "output_type": "stream",
     "text": [
      "{'probability_of_blue_eyes': 0.5, 'probability_of_girl': 0.5, 'probability_of_boy': 0.5}\n"
     ]
    }
   ],
   "source": [
    "def can_have_blue_eyes_and_gender(mother_genotype, father_genotype):\n",
    "    if mother_genotype == \"AG\":\n",
    "        mother_alleles = ['A', 'G']\n",
    "    elif mother_genotype == \"GG\":\n",
    "        mother_alleles = ['G']\n",
    "    else:\n",
    "        raise ValueError(\"Invalid genotype for mother\")\n",
    "\n",
    "    if father_genotype == \"GG\":\n",
    "        father_alleles = ['G']\n",
    "    else:\n",
    "        raise ValueError(\"Invalid genotype for father\")\n",
    "\n",
    "    possible_combinations = [m + f for m in mother_alleles for f in father_alleles]\n",
    "    blue_eye_combinations = [comb for comb in possible_combinations if comb == 'GG']\n",
    "    probability_of_blue_eyes = len(blue_eye_combinations) / len(possible_combinations)\n",
    "    probability_of_girl = 0.5\n",
    "    probability_of_boy = 0.5\n",
    "    \n",
    "    return {\n",
    "        \"probability_of_blue_eyes\": probability_of_blue_eyes,\n",
    "        \"probability_of_girl\": probability_of_girl,\n",
    "        \"probability_of_boy\": probability_of_boy\n",
    "    }\n",
    "\n",
    "results = can_have_blue_eyes_and_gender(\"AG\", \"GG\")\n",
    "print(results)"
   ]
  },
  {
   "cell_type": "code",
   "execution_count": 19,
   "id": "e32ded31",
   "metadata": {},
   "outputs": [
    {
     "name": "stdout",
     "output_type": "stream",
     "text": [
      "25.0\n"
     ]
    }
   ],
   "source": [
    "bruh = (50*50)/100\n",
    "print(bruh)"
   ]
  },
  {
   "cell_type": "code",
   "execution_count": null,
   "id": "c081c47f",
   "metadata": {},
   "outputs": [],
   "source": []
  }
 ],
 "metadata": {
  "kernelspec": {
   "display_name": "Python 3 (ipykernel)",
   "language": "python",
   "name": "python3"
  },
  "language_info": {
   "codemirror_mode": {
    "name": "ipython",
    "version": 3
   },
   "file_extension": ".py",
   "mimetype": "text/x-python",
   "name": "python",
   "nbconvert_exporter": "python",
   "pygments_lexer": "ipython3",
   "version": "3.9.13"
  }
 },
 "nbformat": 4,
 "nbformat_minor": 5
}
