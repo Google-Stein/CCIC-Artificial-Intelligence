{
 "cells": [
  {
   "cell_type": "code",
   "execution_count": 1,
   "id": "26a93341",
   "metadata": {},
   "outputs": [],
   "source": [
    "import requests\n",
    "from bs4 import BeautifulSoup\n",
    "ivy = [\"Princeton\", \"Harvard\", \"Pennsilvania\", \"Brown\", \"Cornell\", \"Columbia\", \"Yale\", \"Dartmouth\"]"
   ]
  },
  {
   "cell_type": "code",
   "execution_count": 3,
   "id": "d37b5fe4",
   "metadata": {},
   "outputs": [
    {
     "data": {
      "text/plain": [
       "True"
      ]
     },
     "execution_count": 3,
     "metadata": {},
     "output_type": "execute_result"
    }
   ],
   "source": [
    "def scrape_page(URL):\n",
    "    response = requests.get(URL)\n",
    "    soup = BeautifulSoup(response.text, 'html.parser')\n",
    "    str_soup = str(soup)\n",
    "    if \"Princeton\" in str_soup:\n",
    "        return True\n",
    "    return False\n",
    "\n",
    "scrape_page('https://en.wikipedia.org/wiki/Albert_Einstein')"
   ]
  },
  {
   "cell_type": "code",
   "execution_count": null,
   "id": "81640e21",
   "metadata": {},
   "outputs": [],
   "source": []
  }
 ],
 "metadata": {
  "kernelspec": {
   "display_name": "Python 3 (ipykernel)",
   "language": "python",
   "name": "python3"
  },
  "language_info": {
   "codemirror_mode": {
    "name": "ipython",
    "version": 3
   },
   "file_extension": ".py",
   "mimetype": "text/x-python",
   "name": "python",
   "nbconvert_exporter": "python",
   "pygments_lexer": "ipython3",
   "version": "3.9.13"
  }
 },
 "nbformat": 4,
 "nbformat_minor": 5
}
