{
 "cells": [
  {
   "cell_type": "code",
   "execution_count": 121,
   "id": "584268cc",
   "metadata": {},
   "outputs": [
    {
     "data": {
      "text/plain": [
       "'teaniebeanies = 0\\nhappymeals = 0\\nloop = 0\\n\\nwhile loop < 10:\\n    while teaniebeanies < 10:\\n        if ((random.randint(1, 10)) == 1):\\n            teaniebeanies += 1\\n        happymeals += 1\\n        loop += 1\\nprint(loop, happymeals, teaniebeanies)\\n\\n'"
      ]
     },
     "execution_count": 121,
     "metadata": {},
     "output_type": "execute_result"
    }
   ],
   "source": [
    "'''teaniebeanies = 0\n",
    "happymeals = 0\n",
    "loop = 0\n",
    "\n",
    "while loop < 10:\n",
    "    while teaniebeanies < 10:\n",
    "        if ((random.randint(1, 10)) == 1):\n",
    "            teaniebeanies += 1\n",
    "        happymeals += 1\n",
    "        loop += 1\n",
    "print(loop, happymeals, teaniebeanies)\n",
    "\n",
    "'''"
   ]
  },
  {
   "cell_type": "code",
   "execution_count": 150,
   "id": "07cdd96f",
   "metadata": {},
   "outputs": [],
   "source": [
    "def beanie_babies(trials):\n",
    "    \"\"\"\n",
    "    Returns the average number of Happy Meals needed to be purchased to get all 10 beanie babies.\n",
    "    \"\"\"\n",
    "    count = 0\n",
    "    beanies = []\n",
    "    avg = 0\n",
    "    while count < trials:\n",
    "        num = random.randint(1, 11)\n",
    "        if num not in beanies:\n",
    "            beanies.append(num)\n",
    "            if len(beanies) == 10:\n",
    "                avg = avg + count\n",
    "            count += 1\n",
    "    return avg/trials\n",
    "        \n",
    "        "
   ]
  },
  {
   "cell_type": "code",
   "execution_count": null,
   "id": "97ba50d1",
   "metadata": {
    "scrolled": true
   },
   "outputs": [],
   "source": [
    "beanie_babies(100)"
   ]
  },
  {
   "cell_type": "code",
   "execution_count": null,
   "id": "112581e9",
   "metadata": {},
   "outputs": [],
   "source": []
  }
 ],
 "metadata": {
  "kernelspec": {
   "display_name": "Python 3 (ipykernel)",
   "language": "python",
   "name": "python3"
  },
  "language_info": {
   "codemirror_mode": {
    "name": "ipython",
    "version": 3
   },
   "file_extension": ".py",
   "mimetype": "text/x-python",
   "name": "python",
   "nbconvert_exporter": "python",
   "pygments_lexer": "ipython3",
   "version": "3.9.13"
  }
 },
 "nbformat": 4,
 "nbformat_minor": 5
}
