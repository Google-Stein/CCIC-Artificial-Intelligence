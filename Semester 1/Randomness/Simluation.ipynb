{
 "cells": [
  {
   "cell_type": "code",
   "execution_count": 3,
   "id": "03008857",
   "metadata": {},
   "outputs": [
    {
     "name": "stdout",
     "output_type": "stream",
     "text": [
      "111 10\n"
     ]
    }
   ],
   "source": [
    "import random\n",
    "teaniebeanies = 0\n",
    "happymeals = 0\n",
    "\n",
    "while teaniebeanies < 10:\n",
    "    if ((random.randint(1, 10)) == 1):\n",
    "        teaniebeanies += 1\n",
    "    happymeals += 1\n",
    "print(happymeals, teaniebeanies)\n"
   ]
  },
  {
   "cell_type": "code",
   "execution_count": null,
   "id": "49affb2f",
   "metadata": {},
   "outputs": [],
   "source": []
  },
  {
   "cell_type": "code",
   "execution_count": 4,
   "id": "d4000d0c",
   "metadata": {},
   "outputs": [],
   "source": [
    "def beanie_babies(trials):\n",
    "    \"\"\"\n",
    "    Returns the average number of Happy Meals needed to be purchased to get all 10 beanie babies.\n",
    "    \"\"\"\n",
    "    count = 0\n",
    "    beanies = []\n",
    "    avg = 0\n",
    "    while count < trials:\n",
    "        num = random.randint(1, 11)\n",
    "        if num not in beanies:\n",
    "            beanies.append(num)\n",
    "            if len(beanies) == 10:\n",
    "                avg = avg + count\n",
    "            count += 1\n",
    "    return avg/trials\n",
    "        \n",
    "        "
   ]
  },
  {
   "cell_type": "code",
   "execution_count": 5,
   "id": "30a41277",
   "metadata": {
    "scrolled": true
   },
   "outputs": [
    {
     "ename": "KeyboardInterrupt",
     "evalue": "",
     "output_type": "error",
     "traceback": [
      "\u001b[1;31m---------------------------------------------------------------------------\u001b[0m",
      "\u001b[1;31mKeyboardInterrupt\u001b[0m                         Traceback (most recent call last)",
      "\u001b[1;32m~\\AppData\\Local\\Temp\\ipykernel_12136\\1251454946.py\u001b[0m in \u001b[0;36m<module>\u001b[1;34m\u001b[0m\n\u001b[1;32m----> 1\u001b[1;33m \u001b[0mbeanie_babies\u001b[0m\u001b[1;33m(\u001b[0m\u001b[1;36m100\u001b[0m\u001b[1;33m)\u001b[0m\u001b[1;33m\u001b[0m\u001b[1;33m\u001b[0m\u001b[0m\n\u001b[0m",
      "\u001b[1;32m~\\AppData\\Local\\Temp\\ipykernel_12136\\3007888220.py\u001b[0m in \u001b[0;36mbeanie_babies\u001b[1;34m(trials)\u001b[0m\n\u001b[0;32m      7\u001b[0m     \u001b[0mavg\u001b[0m \u001b[1;33m=\u001b[0m \u001b[1;36m0\u001b[0m\u001b[1;33m\u001b[0m\u001b[1;33m\u001b[0m\u001b[0m\n\u001b[0;32m      8\u001b[0m     \u001b[1;32mwhile\u001b[0m \u001b[0mcount\u001b[0m \u001b[1;33m<\u001b[0m \u001b[0mtrials\u001b[0m\u001b[1;33m:\u001b[0m\u001b[1;33m\u001b[0m\u001b[1;33m\u001b[0m\u001b[0m\n\u001b[1;32m----> 9\u001b[1;33m         \u001b[0mnum\u001b[0m \u001b[1;33m=\u001b[0m \u001b[0mrandom\u001b[0m\u001b[1;33m.\u001b[0m\u001b[0mrandint\u001b[0m\u001b[1;33m(\u001b[0m\u001b[1;36m1\u001b[0m\u001b[1;33m,\u001b[0m \u001b[1;36m11\u001b[0m\u001b[1;33m)\u001b[0m\u001b[1;33m\u001b[0m\u001b[1;33m\u001b[0m\u001b[0m\n\u001b[0m\u001b[0;32m     10\u001b[0m         \u001b[1;32mif\u001b[0m \u001b[0mnum\u001b[0m \u001b[1;32mnot\u001b[0m \u001b[1;32min\u001b[0m \u001b[0mbeanies\u001b[0m\u001b[1;33m:\u001b[0m\u001b[1;33m\u001b[0m\u001b[1;33m\u001b[0m\u001b[0m\n\u001b[0;32m     11\u001b[0m             \u001b[0mbeanies\u001b[0m\u001b[1;33m.\u001b[0m\u001b[0mappend\u001b[0m\u001b[1;33m(\u001b[0m\u001b[0mnum\u001b[0m\u001b[1;33m)\u001b[0m\u001b[1;33m\u001b[0m\u001b[1;33m\u001b[0m\u001b[0m\n",
      "\u001b[1;31mKeyboardInterrupt\u001b[0m: "
     ]
    }
   ],
   "source": [
    "beanie_babies(100)"
   ]
  },
  {
   "cell_type": "code",
   "execution_count": 8,
   "id": "092b8908",
   "metadata": {},
   "outputs": [
    {
     "name": "stdout",
     "output_type": "stream",
     "text": [
      "Dodgers win Game 1!\n",
      "Yankees win Game 2!\n",
      "Dodgers win Game 3!\n",
      "Dodgers win World Series!\n",
      "Dodgers:  4 Yankees:  2\n"
     ]
    }
   ],
   "source": [
    "yankeeWin = 0\n",
    "dodgerWin = 0\n",
    "games = 1\n",
    "\n",
    "for u in range(games):\n",
    "    if (random.randint(1,100) >= 55):\n",
    "        dodgerWin += 1\n",
    "        print(\"Dodgers win Game 1!\")\n",
    "    else:\n",
    "        yankeeWin += 1\n",
    "        print(\"Yankees win Game 1!\")\n",
    "    if (random.randint(1,100) >= 55):\n",
    "        dodgerWin += 1\n",
    "        print(\"Dodgers win Game 2!\")\n",
    "    else:\n",
    "        yankeeWin += 1\n",
    "        print(\"Yankees win Game 2!\")\n",
    "    if (random.randint(1,100) >= 45):\n",
    "        dodgerWin += 1\n",
    "        print(\"Dodgers win Game 3!\")\n",
    "    else:\n",
    "        yankeeWin += 1\n",
    "        print(\"Yankees win Game 3!\")\n",
    "    if (random.randint(1,100) >= 45):\n",
    "        dodgerWin += 1\n",
    "        if dodgerWin == 4:\n",
    "            print(\"Dodgers win World Series!\")\n",
    "            break\n",
    "        else: yankeeWin += 1\n",
    "    else:\n",
    "        yankeeWin += 1\n",
    "        print(\"Yankees win Game 4!\")\n",
    "    if (random.randint(1,100) >= 45):\n",
    "        dodgerWin += 1\n",
    "        if dodgerWin == 4:\n",
    "            print(\"Dodgers win World Series!\")\n",
    "            break\n",
    "        else: yankeeWin += 1\n",
    "        print(\"Dodgers win Game 5!\")\n",
    "    else:\n",
    "        yankeeWin += 1\n",
    "        print(\"Yankees win Game 5!\")\n",
    "    if (random.randint(1,100) >= 55):\n",
    "        dodgerWin += 1\n",
    "        if dodgerWin == 4:\n",
    "            print(\"Dodgers win World Series!\")\n",
    "            break\n",
    "        else: yankeeWin += 1\n",
    "        print(\"Dodgers win Game 6!\")\n",
    "    else:\n",
    "        yankeeWin += 1\n",
    "        print(\"Yankees win Game 6!\")\n",
    "    if (random.randint(1,100) >= 55):\n",
    "        dodgerWin += 1\n",
    "        if dodgerWin == 4:\n",
    "            print(\"Dodgers win World Series!\")\n",
    "            break\n",
    "        else: yankeeWin += 1\n",
    "        print(\"Dodgers win Game 7!\")\n",
    "    else:\n",
    "        yankeeWin += 1\n",
    "        print(\"Yankees win Game 7!\")\n",
    "    \n",
    "print(\"Dodgers: \",dodgerWin, \"Yankees: \",yankeeWin)"
   ]
  },
  {
   "cell_type": "code",
   "execution_count": 9,
   "id": "5c48f5e8",
   "metadata": {},
   "outputs": [
    {
     "name": "stdout",
     "output_type": "stream",
     "text": [
      "Dodgers win Game 1!\n",
      "Dodgers win Game 2!\n",
      "Dodgers win Game 3!\n",
      "Yankees win Game 4!\n",
      "Dodgers win Game 5!\n",
      "Dodgers win World Series!\n",
      "Final Standings: Dodgers: 4 Yankees: 1\n"
     ]
    }
   ],
   "source": [
    "import random\n",
    "\n",
    "yankeeWin = 0\n",
    "dodgerWin = 0\n",
    "games = 7  # Total games in a World Series\n",
    "\n",
    "for game in range(1, games + 1):\n",
    "    if game in [1, 2]:  # Games 1 and 2\n",
    "        if random.randint(1, 100) >= 55:\n",
    "            dodgerWin += 1\n",
    "            print(f\"Dodgers win Game {game}!\")\n",
    "        else:\n",
    "            yankeeWin += 1\n",
    "            print(f\"Yankees win Game {game}!\")\n",
    "    else:  # Games 3 to 7\n",
    "        if random.randint(1, 100) >= 45:\n",
    "            dodgerWin += 1\n",
    "            print(f\"Dodgers win Game {game}!\")\n",
    "        else:\n",
    "            yankeeWin += 1\n",
    "            print(f\"Yankees win Game {game}!\")\n",
    "\n",
    "    # Check if Dodgers won the series\n",
    "    if dodgerWin == 4:\n",
    "        print(\"Dodgers win World Series!\")\n",
    "        break\n",
    "    # Check if Yankees won the series\n",
    "    elif yankeeWin == 4:\n",
    "        print(\"Yankees win World Series!\")\n",
    "        break\n",
    "\n",
    "# Final results\n",
    "print(\"Final Standings: Dodgers:\", dodgerWin, \"Yankees:\", yankeeWin)\n"
   ]
  },
  {
   "cell_type": "code",
   "execution_count": 229,
   "id": "9c11a554",
   "metadata": {},
   "outputs": [
    {
     "name": "stdout",
     "output_type": "stream",
     "text": [
      "Expected number of boxes to buy to get all pictures: 6.59\n"
     ]
    }
   ],
   "source": [
    "import random\n",
    "\n",
    "def simulate_cereal_boxes(num_trials):\n",
    "    probabilities = {\n",
    "        'Tiger Woods': 0.20,\n",
    "        'Cristiano Ronaldo': 0.30,\n",
    "        'Serena Williams': 0.50\n",
    "    }\n",
    "    \n",
    "    total_boxes_needed = 0\n",
    "    \n",
    "    for _ in range(num_trials):\n",
    "        collected = set()\n",
    "        boxes_count = 0\n",
    "        \n",
    "        while len(collected) < 3:\n",
    "            boxes_count += 1\n",
    "            draw = random.choices(\n",
    "                list(probabilities.keys()),\n",
    "                weights=probabilities.values(),\n",
    "                k=1\n",
    "            )[0]\n",
    "            collected.add(draw)\n",
    "        \n",
    "        total_boxes_needed += boxes_count\n",
    "        \n",
    "    average_boxes_needed = total_boxes_needed / num_trials\n",
    "    return average_boxes_needed\n",
    "\n",
    "num_trials = 10000\n",
    "expected_boxes = simulate_cereal_boxes(num_trials)\n",
    "print(f'Expected number of boxes to buy to get all pictures: {expected_boxes:.2f}')\n"
   ]
  },
  {
   "cell_type": "code",
   "execution_count": 230,
   "id": "4b81eb80",
   "metadata": {},
   "outputs": [
    {
     "name": "stdout",
     "output_type": "stream",
     "text": [
      "Proportions of each color found in the box:\n",
      "Red: 40.07%\n",
      "Green: 35.38%\n",
      "Blue: 24.55%\n"
     ]
    }
   ],
   "source": [
    "import random\n",
    "\n",
    "def simulate_marbles(num_marbles, num_trials):\n",
    "    # Define the proportions of marbles\n",
    "    proportions = {\n",
    "        'Red': 0.4,    # 40% Red\n",
    "        'Green': 0.35, # 35% Green\n",
    "        'Blue': 0.25   # 25% Blue\n",
    "    }\n",
    "\n",
    "    # Create a box of marbles based on defined proportions\n",
    "    marbles = []\n",
    "    for color, proportion in proportions.items():\n",
    "        count = int(num_marbles * proportion)\n",
    "        marbles.extend([color] * count)\n",
    "    \n",
    "    # Store results across trials\n",
    "    results = {\n",
    "        'Red': 0,\n",
    "        'Green': 0,\n",
    "        'Blue': 0\n",
    "    }\n",
    "\n",
    "    for _ in range(num_trials):\n",
    "        # Shuffle the marbles and pick one\n",
    "        random.shuffle(marbles)\n",
    "        drawn_marble = random.choice(marbles)\n",
    "        results[drawn_marble] += 1\n",
    "\n",
    "    # Calculate the proportions based on trials\n",
    "    for color in results:\n",
    "        results[color] /= num_trials  # Normalize by the number of trials\n",
    "    \n",
    "    return results\n",
    "\n",
    "# Parameters for the simulation\n",
    "num_marbles = 1000  # Total number of marbles in the box\n",
    "num_trials = 10000  # Number of draws from the box\n",
    "\n",
    "# Run the simulation\n",
    "proportions_found = simulate_marbles(num_marbles, num_trials)\n",
    "print(\"Proportions of each color found in the box:\")\n",
    "for color, proportion in proportions_found.items():\n",
    "    print(f\"{color}: {proportion:.2%}\")\n"
   ]
  },
  {
   "cell_type": "markdown",
   "id": "35367b0e",
   "metadata": {},
   "source": [
    "### The Theoretical Probability of eating a hot chip on the first round is 1/6 or 16.66%\n",
    "\n"
   ]
  },
  {
   "cell_type": "code",
   "execution_count": 15,
   "id": "e0945b5b",
   "metadata": {},
   "outputs": [
    {
     "name": "stdout",
     "output_type": "stream",
     "text": [
      "0.1\n"
     ]
    }
   ],
   "source": [
    "hotchip = 0\n",
    "regularchip = 0\n",
    "chipTotal = 0\n",
    "\n",
    "for chipTotal in range(10):\n",
    "    '''calc probability'''\n",
    "    if random.randint(1, 6) == 1:\n",
    "        hotchip += 1\n",
    "        chipTotal += 1\n",
    "    else:\n",
    "        regularchip += 1\n",
    "        chipTotal += 1\n",
    "\n",
    "prob = hotchip / chipTotal\n",
    "print(prob)\n",
    "        \n",
    "    \n",
    "    "
   ]
  },
  {
   "cell_type": "code",
   "execution_count": null,
   "id": "99585e4c",
   "metadata": {},
   "outputs": [],
   "source": []
  }
 ],
 "metadata": {
  "kernelspec": {
   "display_name": "Python 3 (ipykernel)",
   "language": "python",
   "name": "python3"
  },
  "language_info": {
   "codemirror_mode": {
    "name": "ipython",
    "version": 3
   },
   "file_extension": ".py",
   "mimetype": "text/x-python",
   "name": "python",
   "nbconvert_exporter": "python",
   "pygments_lexer": "ipython3",
   "version": "3.9.13"
  }
 },
 "nbformat": 4,
 "nbformat_minor": 5
}
