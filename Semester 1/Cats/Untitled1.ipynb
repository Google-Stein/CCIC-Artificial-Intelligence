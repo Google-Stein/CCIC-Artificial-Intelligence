{
 "cells": [
  {
   "cell_type": "code",
   "execution_count": null,
   "id": "7889ef0c",
   "metadata": {},
   "outputs": [],
   "source": [
    "'''I'm losing my god damn mind in this class\n",
    "So much programming\n",
    "so little time\n",
    "It's clear that there is a significnatly increasing amount of people who want to move to the United States, thus they are going through the legal avenues (and illigal as well) in increasing numbers. Variaty of increasing push and pull factors that are increasing immigration up to 2016'''"
   ]
  }
 ],
 "metadata": {
  "kernelspec": {
   "display_name": "Python 3 (ipykernel)",
   "language": "python",
   "name": "python3"
  },
  "language_info": {
   "codemirror_mode": {
    "name": "ipython",
    "version": 3
   },
   "file_extension": ".py",
   "mimetype": "text/x-python",
   "name": "python",
   "nbconvert_exporter": "python",
   "pygments_lexer": "ipython3",
   "version": "3.9.13"
  }
 },
 "nbformat": 4,
 "nbformat_minor": 5
}
