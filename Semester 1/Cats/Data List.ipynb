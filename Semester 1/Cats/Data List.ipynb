{
 "cells": [
  {
   "cell_type": "code",
   "execution_count": 64,
   "id": "df3d5437",
   "metadata": {},
   "outputs": [
    {
     "data": {
      "text/plain": [
       "['Breed', 'Age (Years)', 'Weight (kg)', 'Color', 'Gender', 'ID']"
      ]
     },
     "execution_count": 64,
     "metadata": {},
     "output_type": "execute_result"
    }
   ],
   "source": [
    "import pandas\n",
    "data = pd.read_csv('cats.csv')\n",
    "data.tail(5)\n",
    "data.drop(['Unnamed: 0'], inplace=True, axis=1)\n",
    "list(data.columns)"
   ]
  }
 ],
 "metadata": {
  "kernelspec": {
   "display_name": "Python 3 (ipykernel)",
   "language": "python",
   "name": "python3"
  },
  "language_info": {
   "codemirror_mode": {
    "name": "ipython",
    "version": 3
   },
   "file_extension": ".py",
   "mimetype": "text/x-python",
   "name": "python",
   "nbconvert_exporter": "python",
   "pygments_lexer": "ipython3",
   "version": "3.9.13"
  }
 },
 "nbformat": 4,
 "nbformat_minor": 5
}
