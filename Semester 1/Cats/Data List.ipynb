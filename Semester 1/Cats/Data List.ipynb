{
 "cells": [
  {
   "cell_type": "code",
   "execution_count": 64,
   "id": "1a53d40e",
   "metadata": {},
   "outputs": [
    {
     "data": {
      "text/plain": [
       "['Breed', 'Age (Years)', 'Weight (kg)', 'Color', 'Gender', 'ID']"
      ]
     },
     "execution_count": 64,
     "metadata": {},
     "output_type": "execute_result"
    }
   ],
   "source": [
    "import pandas\n",
    "data = pd.read_csv('cats.csv')\n",
    "data.tail(5)\n",
    "data.drop(['Unnamed: 0'], inplace=True, axis=1)\n",
    "list(data.columns)"
   ]
  },
  {
   "cell_type": "code",
   "execution_count": 94,
   "id": "d0e8aff9",
   "metadata": {},
   "outputs": [
    {
     "data": {
      "text/plain": [
       "'Maine Coon'"
      ]
     },
     "execution_count": 94,
     "metadata": {},
     "output_type": "execute_result"
    }
   ],
   "source": [
    "data.iloc[98]['Breed']"
   ]
  },
  {
   "cell_type": "code",
   "execution_count": 78,
   "id": "dd895bdb",
   "metadata": {},
   "outputs": [
    {
     "data": {
      "text/plain": [
       "Breed          Maine Coon\n",
       "Age (Years)             9\n",
       "Weight (kg)             5\n",
       "Color                Blue\n",
       "Gender             Female\n",
       "ID                    590\n",
       "Name: 98, dtype: object"
      ]
     },
     "execution_count": 78,
     "metadata": {},
     "output_type": "execute_result"
    }
   ],
   "source": [
    "data.loc[98]"
   ]
  },
  {
   "cell_type": "code",
   "execution_count": 82,
   "id": "d537c0cf",
   "metadata": {},
   "outputs": [
    {
     "data": {
      "text/plain": [
       "7"
      ]
     },
     "execution_count": 82,
     "metadata": {},
     "output_type": "execute_result"
    }
   ],
   "source": [
    "data.loc[0]['Weight (kg)']"
   ]
  },
  {
   "cell_type": "code",
   "execution_count": 84,
   "id": "daec895c",
   "metadata": {
    "scrolled": true
   },
   "outputs": [
    {
     "data": {
      "text/plain": [
       "<bound method NDFrame.tail of               Breed  Age (Years)  Weight (kg)          Color  Gender    ID\n",
       "0      Egyptian Mau           12            7          White    Male   181\n",
       "1     Scottish Fold           17            8  Tortoiseshell    Male   907\n",
       "2            Sphynx            9            9         Orange    Male   732\n",
       "3          Oriental            6            7           Gray  Female   464\n",
       "4          Savannah           14            7  Tortoiseshell  Female   451\n",
       "...             ...          ...          ...            ...     ...   ...\n",
       "997         Persian           19            9          Cream    Male   659\n",
       "998         Persian           17            3        Bicolor  Female   124\n",
       "999            Manx           18            8          Black    Male   226\n",
       "1000   Orange Tabby            3            5         Orange    Male  1000\n",
       "1001           Zuko            3            5         Orange    Male  1001\n",
       "\n",
       "[1002 rows x 6 columns]>"
      ]
     },
     "execution_count": 84,
     "metadata": {},
     "output_type": "execute_result"
    }
   ],
   "source": [
    "data.loc[len(data)] = [\"Zuko\", 3, 5, \"Orange\", \"Male\", len(data)]\n",
    "data.tail"
   ]
  },
  {
   "cell_type": "code",
   "execution_count": 85,
   "id": "1050920a",
   "metadata": {},
   "outputs": [],
   "source": [
    "data['Weight in Lbs'] = data['Weight (kg)'] * 2.205"
   ]
  },
  {
   "cell_type": "code",
   "execution_count": 86,
   "id": "4babd3ce",
   "metadata": {},
   "outputs": [
    {
     "data": {
      "text/plain": [
       "<bound method NDFrame.head of               Breed  Age (Years)  Weight (kg)          Color  Gender    ID  \\\n",
       "0      Egyptian Mau           12            7          White    Male   181   \n",
       "1     Scottish Fold           17            8  Tortoiseshell    Male   907   \n",
       "2            Sphynx            9            9         Orange    Male   732   \n",
       "3          Oriental            6            7           Gray  Female   464   \n",
       "4          Savannah           14            7  Tortoiseshell  Female   451   \n",
       "...             ...          ...          ...            ...     ...   ...   \n",
       "997         Persian           19            9          Cream    Male   659   \n",
       "998         Persian           17            3        Bicolor  Female   124   \n",
       "999            Manx           18            8          Black    Male   226   \n",
       "1000   Orange Tabby            3            5         Orange    Male  1000   \n",
       "1001           Zuko            3            5         Orange    Male  1001   \n",
       "\n",
       "      Weight in Lbs  \n",
       "0            15.435  \n",
       "1            17.640  \n",
       "2            19.845  \n",
       "3            15.435  \n",
       "4            15.435  \n",
       "...             ...  \n",
       "997          19.845  \n",
       "998           6.615  \n",
       "999          17.640  \n",
       "1000         11.025  \n",
       "1001         11.025  \n",
       "\n",
       "[1002 rows x 7 columns]>"
      ]
     },
     "execution_count": 86,
     "metadata": {},
     "output_type": "execute_result"
    }
   ],
   "source": [
    "data.head"
   ]
  },
  {
   "cell_type": "code",
   "execution_count": null,
   "id": "b8b1c1d6",
   "metadata": {},
   "outputs": [],
   "source": []
  }
 ],
 "metadata": {
  "kernelspec": {
   "display_name": "Python 3 (ipykernel)",
   "language": "python",
   "name": "python3"
  },
  "language_info": {
   "codemirror_mode": {
    "name": "ipython",
    "version": 3
   },
   "file_extension": ".py",
   "mimetype": "text/x-python",
   "name": "python",
   "nbconvert_exporter": "python",
   "pygments_lexer": "ipython3",
   "version": "3.9.13"
  }
 },
 "nbformat": 4,
 "nbformat_minor": 5
}
