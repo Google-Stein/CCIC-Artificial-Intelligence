{
 "cells": [
  {
   "cell_type": "markdown",
   "id": "c80b3b64",
   "metadata": {},
   "source": [
    "# Choose a Data Set\n",
    "Pick one of the following data sets to analyze for your final project. \n",
    "- [Cosmetics](https://drive.google.com/drive/folders/1qvmRfGb7a_pYAtgW6614gxlP-bxl_Ptz?usp=drive_link)\n",
    "- [Mental Health](https://drive.google.com/drive/folders/1YOp1aQVcmqlAkUEGHNPl_TyNXbY-xHwO?usp=drive_link)\n",
    "- [Pokemon](https://drive.google.com/drive/folders/1kDu2oRgm_hUW5hdM0tHnMUqCGSKUYT1v?usp=drive_link)\n",
    "- [Ramen](https://drive.google.com/drive/folders/1Y4_5QHOCy8rHc5EsEwDUuoCfp2WLo-MN?usp=drive_link)\n",
    "- [Student Performance](https://drive.google.com/drive/folders/1fE31Ka38AnGpgfI_Es3z4psuA0phhH0Y?usp=drive_link)"
   ]
  },
  {
   "cell_type": "markdown",
   "id": "8a7e64bc",
   "metadata": {},
   "source": [
    "# My Question"
   ]
  },
  {
   "cell_type": "markdown",
   "id": "b52e166c",
   "metadata": {},
   "source": [
    "***Is there a correlation between technology usage ( x + y + z = Screen_Time_Hours) stress level?***"
   ]
  },
  {
   "cell_type": "markdown",
   "id": "0a574d2e",
   "metadata": {},
   "source": [
    "# My Analysis"
   ]
  },
  {
   "cell_type": "code",
   "execution_count": 2,
   "id": "e9e64518",
   "metadata": {},
   "outputs": [
    {
     "data": {
      "text/html": [
       "<div>\n",
       "<style scoped>\n",
       "    .dataframe tbody tr th:only-of-type {\n",
       "        vertical-align: middle;\n",
       "    }\n",
       "\n",
       "    .dataframe tbody tr th {\n",
       "        vertical-align: top;\n",
       "    }\n",
       "\n",
       "    .dataframe thead th {\n",
       "        text-align: right;\n",
       "    }\n",
       "</style>\n",
       "<table border=\"1\" class=\"dataframe\">\n",
       "  <thead>\n",
       "    <tr style=\"text-align: right;\">\n",
       "      <th></th>\n",
       "      <th>User_ID</th>\n",
       "      <th>Age</th>\n",
       "      <th>Gender</th>\n",
       "      <th>Technology_Usage_Hours</th>\n",
       "      <th>Social_Media_Usage_Hours</th>\n",
       "      <th>Gaming_Hours</th>\n",
       "      <th>Screen_Time_Hours</th>\n",
       "      <th>Mental_Health_Status</th>\n",
       "      <th>Stress_Level</th>\n",
       "      <th>Sleep_Hours</th>\n",
       "      <th>Physical_Activity_Hours</th>\n",
       "      <th>Support_Systems_Access</th>\n",
       "      <th>Work_Environment_Impact</th>\n",
       "      <th>Online_Support_Usage</th>\n",
       "    </tr>\n",
       "  </thead>\n",
       "  <tbody>\n",
       "    <tr>\n",
       "      <th>0</th>\n",
       "      <td>USER-00001</td>\n",
       "      <td>23</td>\n",
       "      <td>Female</td>\n",
       "      <td>6.57</td>\n",
       "      <td>6.00</td>\n",
       "      <td>0.68</td>\n",
       "      <td>12.36</td>\n",
       "      <td>Good</td>\n",
       "      <td>Low</td>\n",
       "      <td>8.01</td>\n",
       "      <td>6.71</td>\n",
       "      <td>No</td>\n",
       "      <td>Negative</td>\n",
       "      <td>Yes</td>\n",
       "    </tr>\n",
       "    <tr>\n",
       "      <th>1</th>\n",
       "      <td>USER-00002</td>\n",
       "      <td>21</td>\n",
       "      <td>Male</td>\n",
       "      <td>3.01</td>\n",
       "      <td>2.57</td>\n",
       "      <td>3.74</td>\n",
       "      <td>7.61</td>\n",
       "      <td>Poor</td>\n",
       "      <td>High</td>\n",
       "      <td>7.28</td>\n",
       "      <td>5.88</td>\n",
       "      <td>Yes</td>\n",
       "      <td>Positive</td>\n",
       "      <td>No</td>\n",
       "    </tr>\n",
       "    <tr>\n",
       "      <th>2</th>\n",
       "      <td>USER-00003</td>\n",
       "      <td>51</td>\n",
       "      <td>Male</td>\n",
       "      <td>3.04</td>\n",
       "      <td>6.14</td>\n",
       "      <td>1.26</td>\n",
       "      <td>3.16</td>\n",
       "      <td>Fair</td>\n",
       "      <td>High</td>\n",
       "      <td>8.04</td>\n",
       "      <td>9.81</td>\n",
       "      <td>No</td>\n",
       "      <td>Negative</td>\n",
       "      <td>No</td>\n",
       "    </tr>\n",
       "    <tr>\n",
       "      <th>3</th>\n",
       "      <td>USER-00004</td>\n",
       "      <td>25</td>\n",
       "      <td>Female</td>\n",
       "      <td>3.84</td>\n",
       "      <td>4.48</td>\n",
       "      <td>2.59</td>\n",
       "      <td>13.08</td>\n",
       "      <td>Excellent</td>\n",
       "      <td>Medium</td>\n",
       "      <td>5.62</td>\n",
       "      <td>5.28</td>\n",
       "      <td>Yes</td>\n",
       "      <td>Negative</td>\n",
       "      <td>Yes</td>\n",
       "    </tr>\n",
       "    <tr>\n",
       "      <th>4</th>\n",
       "      <td>USER-00005</td>\n",
       "      <td>53</td>\n",
       "      <td>Male</td>\n",
       "      <td>1.20</td>\n",
       "      <td>0.56</td>\n",
       "      <td>0.29</td>\n",
       "      <td>12.63</td>\n",
       "      <td>Good</td>\n",
       "      <td>Low</td>\n",
       "      <td>5.55</td>\n",
       "      <td>4.00</td>\n",
       "      <td>No</td>\n",
       "      <td>Positive</td>\n",
       "      <td>Yes</td>\n",
       "    </tr>\n",
       "  </tbody>\n",
       "</table>\n",
       "</div>"
      ],
      "text/plain": [
       "      User_ID  Age  Gender  Technology_Usage_Hours  Social_Media_Usage_Hours  \\\n",
       "0  USER-00001   23  Female                    6.57                      6.00   \n",
       "1  USER-00002   21    Male                    3.01                      2.57   \n",
       "2  USER-00003   51    Male                    3.04                      6.14   \n",
       "3  USER-00004   25  Female                    3.84                      4.48   \n",
       "4  USER-00005   53    Male                    1.20                      0.56   \n",
       "\n",
       "   Gaming_Hours  Screen_Time_Hours Mental_Health_Status Stress_Level  \\\n",
       "0          0.68              12.36                 Good          Low   \n",
       "1          3.74               7.61                 Poor         High   \n",
       "2          1.26               3.16                 Fair         High   \n",
       "3          2.59              13.08            Excellent       Medium   \n",
       "4          0.29              12.63                 Good          Low   \n",
       "\n",
       "   Sleep_Hours  Physical_Activity_Hours Support_Systems_Access  \\\n",
       "0         8.01                     6.71                     No   \n",
       "1         7.28                     5.88                    Yes   \n",
       "2         8.04                     9.81                     No   \n",
       "3         5.62                     5.28                    Yes   \n",
       "4         5.55                     4.00                     No   \n",
       "\n",
       "  Work_Environment_Impact Online_Support_Usage  \n",
       "0                Negative                  Yes  \n",
       "1                Positive                   No  \n",
       "2                Negative                   No  \n",
       "3                Negative                  Yes  \n",
       "4                Positive                  Yes  "
      ]
     },
     "execution_count": 2,
     "metadata": {},
     "output_type": "execute_result"
    }
   ],
   "source": [
    "# Write all the code needed for your analysis here. \n",
    "# You can add more cells to this section if you would like.\n",
    "\n",
    "import pandas as pd\n",
    "import seaborn as sns\n",
    "data = pd.read_csv('mentalhealth.csv')\n",
    "data.head()\n"
   ]
  },
  {
   "cell_type": "code",
   "execution_count": 5,
   "id": "b8dc0579",
   "metadata": {
    "scrolled": false
   },
   "outputs": [
    {
     "name": "stdout",
     "output_type": "stream",
     "text": [
      "<class 'pandas.core.frame.DataFrame'>\n",
      "RangeIndex: 10000 entries, 0 to 9999\n",
      "Data columns (total 14 columns):\n",
      " #   Column                    Non-Null Count  Dtype  \n",
      "---  ------                    --------------  -----  \n",
      " 0   User_ID                   10000 non-null  object \n",
      " 1   Age                       10000 non-null  int64  \n",
      " 2   Gender                    10000 non-null  object \n",
      " 3   Technology_Usage_Hours    10000 non-null  float64\n",
      " 4   Social_Media_Usage_Hours  10000 non-null  float64\n",
      " 5   Gaming_Hours              10000 non-null  float64\n",
      " 6   Screen_Time_Hours         10000 non-null  float64\n",
      " 7   Mental_Health_Status      10000 non-null  object \n",
      " 8   Stress_Level              10000 non-null  object \n",
      " 9   Sleep_Hours               10000 non-null  float64\n",
      " 10  Physical_Activity_Hours   10000 non-null  float64\n",
      " 11  Support_Systems_Access    10000 non-null  object \n",
      " 12  Work_Environment_Impact   10000 non-null  object \n",
      " 13  Online_Support_Usage      10000 non-null  object \n",
      "dtypes: float64(6), int64(1), object(7)\n",
      "memory usage: 1.1+ MB\n"
     ]
    }
   ],
   "source": [
    "data.info()"
   ]
  },
  {
   "cell_type": "code",
   "execution_count": 12,
   "id": "b2416d49",
   "metadata": {
    "scrolled": false
   },
   "outputs": [
    {
     "data": {
      "text/plain": [
       "<AxesSubplot:xlabel='Technology_Usage_Hours', ylabel='Count'>"
      ]
     },
     "execution_count": 12,
     "metadata": {},
     "output_type": "execute_result"
    },
    {
     "data": {
      "image/png": "[encoded data removed]",
      "text/plain": [
       "<Figure size 640x480 with 1 Axes>"
      ]
     },
     "metadata": {},
     "output_type": "display_data"
    }
   ],
   "source": [
    "sns.histplot(data=data, x=\"Technology_Usage_Hours\")"
   ]
  },
  {
   "cell_type": "code",
   "execution_count": 13,
   "id": "3e6cb5ab",
   "metadata": {
    "scrolled": false
   },
   "outputs": [
    {
     "data": {
      "text/plain": [
       "<AxesSubplot:xlabel='Social_Media_Usage_Hours', ylabel='Count'>"
      ]
     },
     "execution_count": 13,
     "metadata": {},
     "output_type": "execute_result"
    },
    {
     "data": {
      "image/png": "[encoded data removed]",
      "text/plain": [
       "<Figure size 640x480 with 1 Axes>"
      ]
     },
     "metadata": {},
     "output_type": "display_data"
    }
   ],
   "source": [
    "sns.histplot(data=data, x=\"Social_Media_Usage_Hours\")"
   ]
  },
  {
   "cell_type": "code",
   "execution_count": 16,
   "id": "209c57ef",
   "metadata": {
    "scrolled": false
   },
   "outputs": [
    {
     "data": {
      "text/plain": [
       "<AxesSubplot:xlabel='Gaming_Hours', ylabel='Count'>"
      ]
     },
     "execution_count": 16,
     "metadata": {},
     "output_type": "execute_result"
    },
    {
     "data": {
      "image/png": "[encoded data removed]",
      "text/plain": [
       "<Figure size 640x480 with 1 Axes>"
      ]
     },
     "metadata": {},
     "output_type": "display_data"
    }
   ],
   "source": [
    "sns.histplot(data=data, x='Gaming_Hours')"
   ]
  },
  {
   "cell_type": "code",
   "execution_count": 17,
   "id": "cfe4e669",
   "metadata": {
    "scrolled": false
   },
   "outputs": [
    {
     "data": {
      "text/plain": [
       "<AxesSubplot:xlabel='Screen_Time_Hours', ylabel='Count'>"
      ]
     },
     "execution_count": 17,
     "metadata": {},
     "output_type": "execute_result"
    },
    {
     "data": {
      "image/png": "[encoded data removed]",
      "text/plain": [
       "<Figure size 640x480 with 1 Axes>"
      ]
     },
     "metadata": {},
     "output_type": "display_data"
    }
   ],
   "source": [
    "sns.histplot(data=data, x=\"Screen_Time_Hours\")"
   ]
  },
  {
   "cell_type": "code",
   "execution_count": 30,
   "id": "4724362d",
   "metadata": {
    "scrolled": false
   },
   "outputs": [
    {
     "name": "stdout",
     "output_type": "stream",
     "text": [
      "    Level  Percentage  Count\n",
      "0     Low       33.32   3332\n",
      "1  Medium       33.38   3338\n",
      "2    High       33.30   3330\n"
     ]
    }
   ],
   "source": [
    "stressLevelLow = 0\n",
    "stressLevelMed = 0\n",
    "stressLevelHigh = 0\n",
    "stressLevelTotal = 0\n",
    "for level in data['Stress_Level']:\n",
    "    if level == \"Low\":\n",
    "        stressLevelLow += 1\n",
    "        stressLevelTotal += 1\n",
    "    elif level == \"Medium\":\n",
    "        stressLevelMed += 1\n",
    "        stressLevelTotal += 1\n",
    "    elif level == \"High\":\n",
    "        stressLevelHigh += 1\n",
    "        stressLevelTotal += 1\n",
    "        \n",
    "        \n",
    "freqTable = {\n",
    "    \"Level\":[\"Low\", \"Medium\", \"High\"], \n",
    "    \"Percentage\":[stressLevelLow/stressLevelTotal*100, stressLevelMed/stressLevelTotal*100, stressLevelHigh/stressLevelTotal*100],\n",
    "    \"Count\": [stressLevelLow, stressLevelMed, stressLevelHigh]\n",
    "    }\n",
    "\n",
    "freqTable_df = pd.DataFrame(freqTable)\n",
    "print(freqTable_df)    \n",
    "\n"
   ]
  },
  {
   "cell_type": "code",
   "execution_count": 37,
   "id": "685ca682",
   "metadata": {},
   "outputs": [
    {
     "name": "stdout",
     "output_type": "stream",
     "text": [
      "    Level  Count\n",
      "0     Low   2113\n",
      "1  Medium   5775\n",
      "2    High   2112\n",
      "3.169022410148379\n"
     ]
    }
   ],
   "source": [
    "mean_usage = data['Technology_Usage_Hours'].mean()\n",
    "std_usage = data['Technology_Usage_Hours'].std()\n",
    "\n",
    "UsageLow = 0\n",
    "UsageMed = 0\n",
    "UsageHigh = 0\n",
    "UsageTotal = 0\n",
    "for level in data['Technology_Usage_Hours']:\n",
    "    if level < mean_usage - std_usage:\n",
    "        UsageLow += 1\n",
    "        UsageTotal += 1\n",
    "    elif mean_usage - std_usage <= level <= mean_usage + std_usage:\n",
    "        UsageMed += 1\n",
    "        UsageTotal += 1\n",
    "    else:  \n",
    "        UsageHigh += 1\n",
    "        UsageTotal += 1\n",
    "    \n",
    "        \n",
    "        \n",
    "freqTable = {\n",
    "    \"Level\":[\"Low\", \"Medium\", \"High\"], \n",
    "    \"Count\": [UsageLow, UsageMed, UsageHigh]\n",
    "    }\n",
    "\n",
    "freqTable_df = pd.DataFrame(freqTable)\n",
    "print(freqTable_df)\n",
    "print(std_usage)\n",
    "\n"
   ]
  },
  {
   "cell_type": "code",
   "execution_count": 35,
   "id": "cddce1c9",
   "metadata": {},
   "outputs": [
    {
     "name": "stdout",
     "output_type": "stream",
     "text": [
      "3.76 6.425 9.2125\n"
     ]
    },
    {
     "data": {
      "text/plain": [
       "{'Min': 1.0, 'Q1': 3.76, 'Median': 6.425, 'Q3': 9.2125, 'Max': 12.0}"
      ]
     },
     "execution_count": 35,
     "metadata": {},
     "output_type": "execute_result"
    }
   ],
   "source": [
    "'''Q1TikTok = data[\"Technology_Usage_Hours\"].quantile(0.25)\n",
    "medianTikTok = data[\"Technology_Usage_Hours\"].quantile(0.5)\n",
    "Q3TikTok = data[\"Technology_Usage_Hours\"].quantile(0.75)\n",
    "\n",
    "print(Q1TikTok, medianTikTok, Q3TikTok)\n",
    "\n",
    "summary = {\n",
    "    \"Min\": data[\"Technology_Usage_Hours\"].min(),\n",
    "    \"Q1\": Q1TikTok,\n",
    "    \"Median\": medianTikTok,\n",
    "    \"Q3\": Q3TikTok,\n",
    "    \"Max\": data[\"Technology_Usage_Hours\"].max()\n",
    "}\n",
    "summary'''\n"
   ]
  },
  {
   "cell_type": "markdown",
   "id": "77e676b2",
   "metadata": {},
   "source": [
    "# My Answer"
   ]
  },
  {
   "cell_type": "markdown",
   "id": "16aec0ac",
   "metadata": {},
   "source": [
    "***The purpose of this analysis is to explore the relationship between technology usage and mental health. This dataset displays various aspects of individuals' daily habits and well-being, including technology usage, social media activity, sleep patterns, physical activity, and mental health status. Utilizing this data, we aimed to explore and specific correlations between these variables and actual mental health score, with the hope of communicating the most important activities to undergo.***\n",
    "\n",
    "***However, after undergoing various analysis techniques, we can confidently conclude that there is no clearly descernable coorelation between technology usage and mental health score (self-declared), even when we considered specific catagories of mental health.***\n",
    "\n",
    "***It all stems from the distrubtion of data, which we can see through our various histograms which display the different factors of technological utilization among the sample group -> (Technology_Usage_Hours\tSocial_Media_Usage_Hours\tGaming_Hours\tScreen_Time_Hours). Through these histograms, we can see clearly that the distrubution of data is uniform, linear. How can we interpret this? If our data distributions are uniform, it means that all values within a given range are equally likely to occur. In a uniform distribution, there is no bias or tendency toward any particular value; each outcome has the same probability of appearing. While just one varible being uniform has the ability to announce a particular prediction, every single varible in the data set here is the same way, even those not included technology (Sleep_Hours,\tPhysical_Activity_Hours). In the grand scheme, what does this mean? It means that in any random sample of information, we as the observer cannot make any predictions about other varibles that would be more or less likely than other scenarios.***\n",
    "\n",
    "***However, while these uniform data distrubtions could pose a problem with how we can intepret this data, we can look at it from another angle, standard deviations. "
   ]
  }
 ],
 "metadata": {
  "kernelspec": {
   "display_name": "Python 3 (ipykernel)",
   "language": "python",
   "name": "python3"
  },
  "language_info": {
   "codemirror_mode": {
    "name": "ipython",
    "version": 3
   },
   "file_extension": ".py",
   "mimetype": "text/x-python",
   "name": "python",
   "nbconvert_exporter": "python",
   "pygments_lexer": "ipython3",
   "version": "3.9.13"
  }
 },
 "nbformat": 4,
 "nbformat_minor": 5
}
