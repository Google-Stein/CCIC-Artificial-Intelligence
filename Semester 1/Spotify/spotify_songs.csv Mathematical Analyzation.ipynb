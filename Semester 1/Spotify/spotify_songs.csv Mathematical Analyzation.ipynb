{
 "cells": [
  {
   "cell_type": "code",
   "execution_count": 13,
   "id": "13e1b2e9",
   "metadata": {
    "scrolled": false
   },
   "outputs": [
    {
     "name": "stdout",
     "output_type": "stream",
     "text": [
      "<class 'pandas.core.frame.DataFrame'>\n",
      "RangeIndex: 32833 entries, 0 to 32832\n",
      "Data columns (total 23 columns):\n",
      " #   Column                    Non-Null Count  Dtype  \n",
      "---  ------                    --------------  -----  \n",
      " 0   track_id                  32833 non-null  object \n",
      " 1   track_name                32828 non-null  object \n",
      " 2   track_artist              32828 non-null  object \n",
      " 3   track_popularity          32833 non-null  int64  \n",
      " 4   track_album_id            32833 non-null  object \n",
      " 5   track_album_name          32828 non-null  object \n",
      " 6   track_album_release_date  32833 non-null  object \n",
      " 7   playlist_name             32833 non-null  object \n",
      " 8   playlist_id               32833 non-null  object \n",
      " 9   playlist_genre            32833 non-null  object \n",
      " 10  playlist_subgenre         32833 non-null  object \n",
      " 11  danceability              32833 non-null  float64\n",
      " 12  energy                    32833 non-null  float64\n",
      " 13  key                       32833 non-null  int64  \n",
      " 14  loudness                  32833 non-null  float64\n",
      " 15  mode                      32833 non-null  int64  \n",
      " 16  speechiness               32833 non-null  float64\n",
      " 17  acousticness              32833 non-null  float64\n",
      " 18  instrumentalness          32833 non-null  float64\n",
      " 19  liveness                  32833 non-null  float64\n",
      " 20  valence                   32833 non-null  float64\n",
      " 21  tempo                     32833 non-null  float64\n",
      " 22  duration_ms               32833 non-null  int64  \n",
      "dtypes: float64(9), int64(4), object(10)\n",
      "memory usage: 5.8+ MB\n"
     ]
    },
    {
     "data": {
      "text/plain": [
       "(                 track_id                                         track_name  \\\n",
       " 0  6f807x0ima9a1j3VPbc7VN  I Don't Care (with Justin Bieber) - Loud Luxur...   \n",
       " 1  0r7CVbZTWZgbTCYdfa2P31                    Memories - Dillon Francis Remix   \n",
       " 2  1z1Hg7Vb0AhHDiEmnDE79l                    All the Time - Don Diablo Remix   \n",
       " 3  75FpbthrwQmzHlBJLuGdC7                  Call You Mine - Keanu Silva Remix   \n",
       " 4  1e8PAfcKUYoKkxPhrHqw4x            Someone You Loved - Future Humans Remix   \n",
       " \n",
       "        track_artist  track_popularity          track_album_id  \\\n",
       " 0        Ed Sheeran                66  2oCs0DGTsRO98Gh5ZSl2Cx   \n",
       " 1          Maroon 5                67  63rPSO264uRjW1X5E6cWv6   \n",
       " 2      Zara Larsson                70  1HoSmj2eLcsrR0vE9gThr4   \n",
       " 3  The Chainsmokers                60  1nqYsOef1yKKuGOVchbsk6   \n",
       " 4     Lewis Capaldi                69  7m7vv9wlQ4i0LFuJiE2zsQ   \n",
       " \n",
       "                                     track_album_name track_album_release_date  \\\n",
       " 0  I Don't Care (with Justin Bieber) [Loud Luxury...               2019-06-14   \n",
       " 1                    Memories (Dillon Francis Remix)               2019-12-13   \n",
       " 2                    All the Time (Don Diablo Remix)               2019-07-05   \n",
       " 3                        Call You Mine - The Remixes               2019-07-19   \n",
       " 4            Someone You Loved (Future Humans Remix)               2019-03-05   \n",
       " \n",
       "   playlist_name             playlist_id playlist_genre  ... key  loudness  \\\n",
       " 0     Pop Remix  37i9dQZF1DXcZDD7cfEKhW            pop  ...   6    -2.634   \n",
       " 1     Pop Remix  37i9dQZF1DXcZDD7cfEKhW            pop  ...  11    -4.969   \n",
       " 2     Pop Remix  37i9dQZF1DXcZDD7cfEKhW            pop  ...   1    -3.432   \n",
       " 3     Pop Remix  37i9dQZF1DXcZDD7cfEKhW            pop  ...   7    -3.778   \n",
       " 4     Pop Remix  37i9dQZF1DXcZDD7cfEKhW            pop  ...   1    -4.672   \n",
       " \n",
       "    mode  speechiness  acousticness  instrumentalness  liveness  valence  \\\n",
       " 0     1       0.0583        0.1020          0.000000    0.0653    0.518   \n",
       " 1     1       0.0373        0.0724          0.004210    0.3570    0.693   \n",
       " 2     0       0.0742        0.0794          0.000023    0.1100    0.613   \n",
       " 3     1       0.1020        0.0287          0.000009    0.2040    0.277   \n",
       " 4     1       0.0359        0.0803          0.000000    0.0833    0.725   \n",
       " \n",
       "      tempo  duration_ms  \n",
       " 0  122.036       194754  \n",
       " 1   99.972       162600  \n",
       " 2  124.008       176616  \n",
       " 3  121.956       169093  \n",
       " 4  123.976       189052  \n",
       " \n",
       " [5 rows x 23 columns],\n",
       " None)"
      ]
     },
     "execution_count": 13,
     "metadata": {},
     "output_type": "execute_result"
    }
   ],
   "source": [
    "import pandas as pd\n",
    "import seaborn as sns\n",
    "\n",
    "data = pd.read_csv('spotify_songs.csv')\n",
    "data.head(), data.info()\n"
   ]
  },
  {
   "cell_type": "code",
   "execution_count": 16,
   "id": "be46205c",
   "metadata": {
    "scrolled": false
   },
   "outputs": [
    {
     "data": {
      "text/plain": [
       "<AxesSubplot:xlabel='track_popularity', ylabel='Count'>"
      ]
     },
     "execution_count": 16,
     "metadata": {},
     "output_type": "execute_result"
    },
    {
     "data": {
      "image/png": "[encoded data removed]",
      "text/plain": [
       "<Figure size 640x480 with 1 Axes>"
      ]
     },
     "metadata": {},
     "output_type": "display_data"
    }
   ],
   "source": [
    "sns.histplot(data=data, x=\"track_popularity\", bins=100, kde=False)"
   ]
  },
  {
   "cell_type": "markdown",
   "id": "60235d7f",
   "metadata": {},
   "source": [
    "# Distribution of Popularity\n",
    "### _________________________________"
   ]
  },
  {
   "cell_type": "markdown",
   "id": "23fe72fd",
   "metadata": {},
   "source": [
    "# Data Analyzation\n",
    "\n",
    "## The track popularity peaks at 0 popularity, which interesting, and possibly hints towards unknown songs being inlucded into the list set\n",
    "\n",
    "## Aside from the peak at 0, there is a large data conglomerated at around the 40-60 range. This suggests the area where the most data lies. As such (Ignoring the peak) We can see a relativily normal bell curve.\n",
    "\n",
    "## The max popularity is 100"
   ]
  },
  {
   "cell_type": "code",
   "execution_count": 9,
   "id": "0887f9f3",
   "metadata": {
    "scrolled": true
   },
   "outputs": [
    {
     "data": {
      "text/plain": [
       "<AxesSubplot:xlabel='track_popularity'>"
      ]
     },
     "execution_count": 9,
     "metadata": {},
     "output_type": "execute_result"
    },
    {
     "data": {
      "image/png": "[encoded data removed]",
      "text/plain": [
       "<Figure size 640x480 with 1 Axes>"
      ]
     },
     "metadata": {},
     "output_type": "display_data"
    }
   ],
   "source": [
    "sns.boxplot(data=data, x=\"track_popularity\")"
   ]
  },
  {
   "cell_type": "markdown",
   "id": "48eb1c0e",
   "metadata": {},
   "source": [
    "## We can clearly see the largest range for data in this data set is between around 22-62 populalrity score, comprising the highest amount of counts\n",
    "\n",
    "## Being a comparison of popularity scores that can only possibly range from 0-100, it's no wonder that our data reaches both of these polarities\n",
    "\n",
    "## Median value is 45, which is less than half of the data of our distribution"
   ]
  },
  {
   "cell_type": "code",
   "execution_count": 19,
   "id": "31fd4c03",
   "metadata": {},
   "outputs": [
    {
     "data": {
      "text/plain": [
       "{'Max': 100, 'Q3': 62.0, 'Med': 45.0, 'Min': 0, 'Q1': 24.0}"
      ]
     },
     "execution_count": 19,
     "metadata": {},
     "output_type": "execute_result"
    }
   ],
   "source": [
    "summary = {\n",
    "    \"Max\": data[\"track_popularity\"].max(),\n",
    "    \"Q3\": data[\"track_popularity\"].quantile(0.75),\n",
    "    \"Med\": data[\"track_popularity\"].median(),\n",
    "    \"Min\": data[\"track_popularity\"].min(),\n",
    "    \"Q1\": data[\"track_popularity\"].quantile(0.25)\n",
    "}\n",
    "summary"
   ]
  },
  {
   "cell_type": "code",
   "execution_count": 49,
   "id": "37ab3ee5",
   "metadata": {},
   "outputs": [],
   "source": [
    "'''average = 0\n",
    "def avg(col):\n",
    "    for value in col:\n",
    "        sum += value\n",
    "        sum/len(col)\n",
    "        average = col.mean()\n",
    "        return average''' "
   ]
  },
  {
   "cell_type": "code",
   "execution_count": 56,
   "id": "9a92f8ee",
   "metadata": {},
   "outputs": [
    {
     "name": "stdout",
     "output_type": "stream",
     "text": [
      "Track Popularity--> : 42.477080985593766\n"
     ]
    }
   ],
   "source": [
    "def avg(column):\n",
    "    return column.mean()\n",
    "\n",
    "average_tempo = avg(data['track_popularity'])\n",
    "\n",
    "print(\"Track Popularity--> :\", average_tempo)"
   ]
  },
  {
   "cell_type": "code",
   "execution_count": 57,
   "id": "5f7ffb6c",
   "metadata": {},
   "outputs": [
    {
     "name": "stdout",
     "output_type": "stream",
     "text": [
      "Average Tempo--> : 120.88113154448297\n"
     ]
    }
   ],
   "source": [
    "def avgT(column):\n",
    "    return column.mean()\n",
    "\n",
    "average_tempo = avgT(data['tempo'])\n",
    "\n",
    "print(\"Average Tempo--> :\", average_tempo)"
   ]
  },
  {
   "cell_type": "code",
   "execution_count": 59,
   "id": "7fa1b232",
   "metadata": {},
   "outputs": [
    {
     "name": "stdout",
     "output_type": "stream",
     "text": [
      "Standard Deviation of Danceability--> : 0.14508532044765107\n"
     ]
    }
   ],
   "source": [
    "def dev(column):\n",
    "    return column.std()\n",
    "\n",
    "stand_dev = dev(data['danceability'])\n",
    "\n",
    "print(\"Standard Deviation of Danceability--> :\", stand_dev)"
   ]
  },
  {
   "cell_type": "code",
   "execution_count": 64,
   "id": "d1242d91",
   "metadata": {},
   "outputs": [
    {
     "name": "stdout",
     "output_type": "stream",
     "text": [
      "Standard Deviation of danceability --> : 0.14508532044765107\n"
     ]
    }
   ],
   "source": [
    "def standard_deviation(column):\n",
    "    std = data[column].std()\n",
    "    return std\n",
    "\n",
    "print(\"Standard Deviation of danceability --> :\", standard_deviation('danceability'))"
   ]
  },
  {
   "cell_type": "code",
   "execution_count": 67,
   "id": "90e78d30",
   "metadata": {},
   "outputs": [
    {
     "data": {
      "text/plain": [
       "<AxesSubplot:xlabel='danceability', ylabel='Count'>"
      ]
     },
     "execution_count": 67,
     "metadata": {},
     "output_type": "execute_result"
    },
    {
     "data": {
      "image/png": "[encoded data removed]",
      "text/plain": [
       "<Figure size 640x480 with 1 Axes>"
      ]
     },
     "metadata": {},
     "output_type": "display_data"
    }
   ],
   "source": [
    "sns.histplot(data=data, x='danceability', bins=100, kde=False)"
   ]
  },
  {
   "cell_type": "code",
   "execution_count": 69,
   "id": "49e5c1f6",
   "metadata": {},
   "outputs": [
    {
     "data": {
      "text/plain": [
       "<AxesSubplot:xlabel='danceability'>"
      ]
     },
     "execution_count": 69,
     "metadata": {},
     "output_type": "execute_result"
    },
    {
     "data": {
      "image/png": "[encoded data removed]",
      "text/plain": [
       "<Figure size 640x480 with 1 Axes>"
      ]
     },
     "metadata": {},
     "output_type": "display_data"
    }
   ],
   "source": [
    "sns.boxplot(data=data, x=\"danceability\")"
   ]
  },
  {
   "cell_type": "code",
   "execution_count": 70,
   "id": "30f34434",
   "metadata": {},
   "outputs": [
    {
     "name": "stdout",
     "output_type": "stream",
     "text": [
      "Track danceability--> : 0.6548495202996926\n"
     ]
    }
   ],
   "source": [
    "def avg(column):\n",
    "    return column.mean()\n",
    "\n",
    "average_tempo = avg(data['danceability'])\n",
    "\n",
    "print(\"Track danceability--> :\", average_tempo)"
   ]
  },
  {
   "cell_type": "code",
   "execution_count": 73,
   "id": "a2befc34",
   "metadata": {},
   "outputs": [
    {
     "data": {
      "text/plain": [
       "<AxesSubplot:xlabel='instrumentalness', ylabel='Count'>"
      ]
     },
     "execution_count": 73,
     "metadata": {},
     "output_type": "execute_result"
    },
    {
     "data": {
      "image/png": "[encoded data removed]",
      "text/plain": [
       "<Figure size 640x480 with 1 Axes>"
      ]
     },
     "metadata": {},
     "output_type": "display_data"
    }
   ],
   "source": [
    "sns.histplot(data=data, x='instrumentalness', bins=100, kde=False)"
   ]
  },
  {
   "cell_type": "code",
   "execution_count": 75,
   "id": "38da3bf6",
   "metadata": {},
   "outputs": [
    {
     "ename": "KeyError",
     "evalue": "'bpm'",
     "output_type": "error",
     "traceback": [
      "\u001b[1;31m---------------------------------------------------------------------------\u001b[0m",
      "\u001b[1;31mKeyError\u001b[0m                                  Traceback (most recent call last)",
      "\u001b[1;32mC:\\ProgramData\\Anaconda3\\lib\\site-packages\\pandas\\core\\indexes\\base.py\u001b[0m in \u001b[0;36mget_loc\u001b[1;34m(self, key, method, tolerance)\u001b[0m\n\u001b[0;32m   3628\u001b[0m             \u001b[1;32mtry\u001b[0m\u001b[1;33m:\u001b[0m\u001b[1;33m\u001b[0m\u001b[1;33m\u001b[0m\u001b[0m\n\u001b[1;32m-> 3629\u001b[1;33m                 \u001b[1;32mreturn\u001b[0m \u001b[0mself\u001b[0m\u001b[1;33m.\u001b[0m\u001b[0m_engine\u001b[0m\u001b[1;33m.\u001b[0m\u001b[0mget_loc\u001b[0m\u001b[1;33m(\u001b[0m\u001b[0mcasted_key\u001b[0m\u001b[1;33m)\u001b[0m\u001b[1;33m\u001b[0m\u001b[1;33m\u001b[0m\u001b[0m\n\u001b[0m\u001b[0;32m   3630\u001b[0m             \u001b[1;32mexcept\u001b[0m \u001b[0mKeyError\u001b[0m \u001b[1;32mas\u001b[0m \u001b[0merr\u001b[0m\u001b[1;33m:\u001b[0m\u001b[1;33m\u001b[0m\u001b[1;33m\u001b[0m\u001b[0m\n",
      "\u001b[1;32mC:\\ProgramData\\Anaconda3\\lib\\site-packages\\pandas\\_libs\\index.pyx\u001b[0m in \u001b[0;36mpandas._libs.index.IndexEngine.get_loc\u001b[1;34m()\u001b[0m\n",
      "\u001b[1;32mC:\\ProgramData\\Anaconda3\\lib\\site-packages\\pandas\\_libs\\index.pyx\u001b[0m in \u001b[0;36mpandas._libs.index.IndexEngine.get_loc\u001b[1;34m()\u001b[0m\n",
      "\u001b[1;32mpandas\\_libs\\hashtable_class_helper.pxi\u001b[0m in \u001b[0;36mpandas._libs.hashtable.PyObjectHashTable.get_item\u001b[1;34m()\u001b[0m\n",
      "\u001b[1;32mpandas\\_libs\\hashtable_class_helper.pxi\u001b[0m in \u001b[0;36mpandas._libs.hashtable.PyObjectHashTable.get_item\u001b[1;34m()\u001b[0m\n",
      "\u001b[1;31mKeyError\u001b[0m: 'bpm'",
      "\nThe above exception was the direct cause of the following exception:\n",
      "\u001b[1;31mKeyError\u001b[0m                                  Traceback (most recent call last)",
      "\u001b[1;32m~\\AppData\\Local\\Temp\\ipykernel_10060\\3600265668.py\u001b[0m in \u001b[0;36m<module>\u001b[1;34m\u001b[0m\n\u001b[0;32m      6\u001b[0m         \u001b[1;32mreturn\u001b[0m \u001b[0mavg\u001b[0m\u001b[1;33m\u001b[0m\u001b[1;33m\u001b[0m\u001b[0m\n\u001b[0;32m      7\u001b[0m \u001b[1;33m\u001b[0m\u001b[0m\n\u001b[1;32m----> 8\u001b[1;33m \u001b[0mavg\u001b[0m\u001b[1;33m(\u001b[0m\u001b[0mdata\u001b[0m\u001b[1;33m[\u001b[0m\u001b[1;34m\"bpm\"\u001b[0m\u001b[1;33m]\u001b[0m\u001b[1;33m)\u001b[0m\u001b[1;33m\u001b[0m\u001b[1;33m\u001b[0m\u001b[0m\n\u001b[0m",
      "\u001b[1;32mC:\\ProgramData\\Anaconda3\\lib\\site-packages\\pandas\\core\\frame.py\u001b[0m in \u001b[0;36m__getitem__\u001b[1;34m(self, key)\u001b[0m\n\u001b[0;32m   3503\u001b[0m             \u001b[1;32mif\u001b[0m \u001b[0mself\u001b[0m\u001b[1;33m.\u001b[0m\u001b[0mcolumns\u001b[0m\u001b[1;33m.\u001b[0m\u001b[0mnlevels\u001b[0m \u001b[1;33m>\u001b[0m \u001b[1;36m1\u001b[0m\u001b[1;33m:\u001b[0m\u001b[1;33m\u001b[0m\u001b[1;33m\u001b[0m\u001b[0m\n\u001b[0;32m   3504\u001b[0m                 \u001b[1;32mreturn\u001b[0m \u001b[0mself\u001b[0m\u001b[1;33m.\u001b[0m\u001b[0m_getitem_multilevel\u001b[0m\u001b[1;33m(\u001b[0m\u001b[0mkey\u001b[0m\u001b[1;33m)\u001b[0m\u001b[1;33m\u001b[0m\u001b[1;33m\u001b[0m\u001b[0m\n\u001b[1;32m-> 3505\u001b[1;33m             \u001b[0mindexer\u001b[0m \u001b[1;33m=\u001b[0m \u001b[0mself\u001b[0m\u001b[1;33m.\u001b[0m\u001b[0mcolumns\u001b[0m\u001b[1;33m.\u001b[0m\u001b[0mget_loc\u001b[0m\u001b[1;33m(\u001b[0m\u001b[0mkey\u001b[0m\u001b[1;33m)\u001b[0m\u001b[1;33m\u001b[0m\u001b[1;33m\u001b[0m\u001b[0m\n\u001b[0m\u001b[0;32m   3506\u001b[0m             \u001b[1;32mif\u001b[0m \u001b[0mis_integer\u001b[0m\u001b[1;33m(\u001b[0m\u001b[0mindexer\u001b[0m\u001b[1;33m)\u001b[0m\u001b[1;33m:\u001b[0m\u001b[1;33m\u001b[0m\u001b[1;33m\u001b[0m\u001b[0m\n\u001b[0;32m   3507\u001b[0m                 \u001b[0mindexer\u001b[0m \u001b[1;33m=\u001b[0m \u001b[1;33m[\u001b[0m\u001b[0mindexer\u001b[0m\u001b[1;33m]\u001b[0m\u001b[1;33m\u001b[0m\u001b[1;33m\u001b[0m\u001b[0m\n",
      "\u001b[1;32mC:\\ProgramData\\Anaconda3\\lib\\site-packages\\pandas\\core\\indexes\\base.py\u001b[0m in \u001b[0;36mget_loc\u001b[1;34m(self, key, method, tolerance)\u001b[0m\n\u001b[0;32m   3629\u001b[0m                 \u001b[1;32mreturn\u001b[0m \u001b[0mself\u001b[0m\u001b[1;33m.\u001b[0m\u001b[0m_engine\u001b[0m\u001b[1;33m.\u001b[0m\u001b[0mget_loc\u001b[0m\u001b[1;33m(\u001b[0m\u001b[0mcasted_key\u001b[0m\u001b[1;33m)\u001b[0m\u001b[1;33m\u001b[0m\u001b[1;33m\u001b[0m\u001b[0m\n\u001b[0;32m   3630\u001b[0m             \u001b[1;32mexcept\u001b[0m \u001b[0mKeyError\u001b[0m \u001b[1;32mas\u001b[0m \u001b[0merr\u001b[0m\u001b[1;33m:\u001b[0m\u001b[1;33m\u001b[0m\u001b[1;33m\u001b[0m\u001b[0m\n\u001b[1;32m-> 3631\u001b[1;33m                 \u001b[1;32mraise\u001b[0m \u001b[0mKeyError\u001b[0m\u001b[1;33m(\u001b[0m\u001b[0mkey\u001b[0m\u001b[1;33m)\u001b[0m \u001b[1;32mfrom\u001b[0m \u001b[0merr\u001b[0m\u001b[1;33m\u001b[0m\u001b[1;33m\u001b[0m\u001b[0m\n\u001b[0m\u001b[0;32m   3632\u001b[0m             \u001b[1;32mexcept\u001b[0m \u001b[0mTypeError\u001b[0m\u001b[1;33m:\u001b[0m\u001b[1;33m\u001b[0m\u001b[1;33m\u001b[0m\u001b[0m\n\u001b[0;32m   3633\u001b[0m                 \u001b[1;31m# If we have a listlike key, _check_indexing_error will raise\u001b[0m\u001b[1;33m\u001b[0m\u001b[1;33m\u001b[0m\u001b[0m\n",
      "\u001b[1;31mKeyError\u001b[0m: 'bpm'"
     ]
    }
   ],
   "source": [
    "'''def avg(column):\n",
    "    sum = 0\n",
    "    for value in column:\n",
    "        sum += value\n",
    "        sum/len(column)\n",
    "        return avg\n",
    "    \n",
    "avg(data[\"bpm\"])"
   ]
  },
  {
   "cell_type": "code",
   "execution_count": 77,
   "id": "24f259ea",
   "metadata": {},
   "outputs": [
    {
     "name": "stdout",
     "output_type": "stream",
     "text": [
      "Standard Deviation of liveness--> : 0.15431727924391167\n"
     ]
    }
   ],
   "source": [
    "def standard_deviation(column):\n",
    "    std = data[column].std()\n",
    "    return std\n",
    "\n",
    "print(\"Standard Deviation of liveness--> :\", standard_deviation('liveness'))"
   ]
  },
  {
   "cell_type": "code",
   "execution_count": 78,
   "id": "05fc4daa",
   "metadata": {},
   "outputs": [
    {
     "name": "stdout",
     "output_type": "stream",
     "text": [
      "Track liveness--> : 0.19017619529132326\n"
     ]
    }
   ],
   "source": [
    "def avg(column):\n",
    "    return column.mean()\n",
    "\n",
    "average_tempo = avg(data['liveness'])\n",
    "\n",
    "print(\"Track liveness--> :\", average_tempo)"
   ]
  },
  {
   "cell_type": "code",
   "execution_count": 92,
   "id": "5fcc6e51",
   "metadata": {},
   "outputs": [
    {
     "data": {
      "text/plain": [
       "track_id                                               2XU0oxnq2qxCpomAAuJY8K\n",
       "track_name                                                       Dance Monkey\n",
       "track_artist                                                      Tones and I\n",
       "track_popularity                                                          100\n",
       "track_album_id                                         0UywfDKYlyiu1b38DRrzYD\n",
       "track_album_name                  Dance Monkey (Stripped Back) / Dance Monkey\n",
       "track_album_release_date                                           2019-10-17\n",
       "playlist_name               post-teen alternative, indie, pop (large variety)\n",
       "playlist_id                                            1y42gwI5cuwjBslPyQNfqb\n",
       "playlist_genre                                                            pop\n",
       "playlist_subgenre                                               post-teen pop\n",
       "danceability                                                            0.824\n",
       "energy                                                                  0.588\n",
       "key                                                                         6\n",
       "loudness                                                                 -6.4\n",
       "mode                                                                        0\n",
       "speechiness                                                            0.0924\n",
       "acousticness                                                            0.692\n",
       "instrumentalness                                                     0.000104\n",
       "liveness                                                                0.149\n",
       "valence                                                                 0.513\n",
       "tempo                                                                  98.027\n",
       "duration_ms                                                            209438\n",
       "Name: 1551, dtype: object"
      ]
     },
     "execution_count": 92,
     "metadata": {},
     "output_type": "execute_result"
    }
   ],
   "source": [
    "idx = 0\n",
    "for person in data[\"track_name\"]:\n",
    "    if \"Dance Monkey\" in person and data.loc[idx]['track_popularity'] >= 100:\n",
    "        break\n",
    "    idx += 1\n",
    "data.loc[idx]"
   ]
  },
  {
   "cell_type": "markdown",
   "id": "2e0163ab",
   "metadata": {},
   "source": [
    "# Analyzation of Dance Monkey by Tones and I\n",
    "## An objective analysis of it's populoarity, and quatitative reasoning as to the legitimacy of it's record\n",
    "\n",
    "### We can see a few important catagories that are crucial to understanding why it's popular. These catagores include Danceability, Energy, Liveness, Tempo, and more. To understand why it's listed with 100 popularity, we have to see how it falls on the dataset among these catagories. \n",
    "\n",
    "## 1. Danceability "
   ]
  },
  {
   "cell_type": "code",
   "execution_count": 95,
   "id": "d3ed5ab4",
   "metadata": {},
   "outputs": [
    {
     "name": "stdout",
     "output_type": "stream",
     "text": [
      "Average Danceability: 0.6548495202996926\n"
     ]
    }
   ],
   "source": [
    "def avgDance(column): \n",
    "    return(column.mean())\n",
    "           \n",
    "dance = avg(data['danceability'])\n",
    "           \n",
    "print(\"Average Danceability:\", dance)"
   ]
  },
  {
   "cell_type": "markdown",
   "id": "0c83476d",
   "metadata": {},
   "source": [
    "#### Average danceability shows itself at .654 while Dance Monkey is at .824, much higher than the mean. In fact, with a SD of about .145, It's over 2 SD from the mean, pushing itself to over the top 95% in terms of Danceability"
   ]
  },
  {
   "cell_type": "markdown",
   "id": "fb3367f3",
   "metadata": {},
   "source": [
    "# 2. Energy"
   ]
  },
  {
   "cell_type": "code",
   "execution_count": 96,
   "id": "2412f42f",
   "metadata": {
    "scrolled": false
   },
   "outputs": [
    {
     "name": "stdout",
     "output_type": "stream",
     "text": [
      "Average Energy 0.6986192707032606\n"
     ]
    }
   ],
   "source": [
    "def avgEnergy(column):\n",
    "    return(column.mean())\n",
    "\n",
    "Energy = avg(data['energy'])\n",
    "\n",
    "print(\"Average Energy:\", Energy)"
   ]
  },
  {
   "cell_type": "markdown",
   "id": "401bfd7c",
   "metadata": {},
   "source": [
    "#### Average Energy shows itself at .698 while Dance Monkey is performing at around .588 instead. For a song of this genre type, it's notable for the lower than mean score, esspecially when paried with it's #1 popularity score of 100. It's performing at the lower half of one standard deviation however, so despite it's lower than expected score, it's still relatvely in the average of the dataset."
   ]
  },
  {
   "cell_type": "code",
   "execution_count": 104,
   "id": "b15e1306",
   "metadata": {},
   "outputs": [
    {
     "name": "stdout",
     "output_type": "stream",
     "text": [
      "Standard Deviation of Energy: 0.18091003391959035\n"
     ]
    }
   ],
   "source": [
    "def standardDev(column):\n",
    "    standardDev = data[column].std()\n",
    "    return standardDev\n",
    "\n",
    "print(\"Standard Deviation of Energy:\", standardDev('energy'))"
   ]
  },
  {
   "cell_type": "code",
   "execution_count": 107,
   "id": "9558fe31",
   "metadata": {},
   "outputs": [
    {
     "data": {
      "text/plain": [
       "<AxesSubplot:xlabel='energy', ylabel='Count'>"
      ]
     },
     "execution_count": 107,
     "metadata": {},
     "output_type": "execute_result"
    },
    {
     "data": {
      "image/png": "[encoded data removed]",
      "text/plain": [
       "<Figure size 640x480 with 1 Axes>"
      ]
     },
     "metadata": {},
     "output_type": "display_data"
    }
   ],
   "source": [
    "sns.histplot(data=data, x='energy', kde=False)"
   ]
  },
  {
   "cell_type": "markdown",
   "id": "c7a7b7d2",
   "metadata": {},
   "source": [
    "# 3. Liveliness"
   ]
  },
  {
   "cell_type": "markdown",
   "id": "8e81b269",
   "metadata": {},
   "source": [
    "#### Dance Monkey has a liveliness of .149, which is the most significant / surprising dataset since the average liveliness of the data set is actually .190. This is notable in terms that while it fits within one "
   ]
  },
  {
   "cell_type": "code",
   "execution_count": 110,
   "id": "bae6d3b4",
   "metadata": {},
   "outputs": [
    {
     "name": "stdout",
     "output_type": "stream",
     "text": [
      "Average Liveliness: 0.19017619529132326\n"
     ]
    }
   ],
   "source": [
    "def avgliveness(column):\n",
    "    return(column.mean())\n",
    "\n",
    "liveness = avg(data['liveness'])\n",
    "\n",
    "print(\"Average Liveliness:\", liveness)"
   ]
  },
  {
   "cell_type": "code",
   "execution_count": 111,
   "id": "78dac419",
   "metadata": {
    "scrolled": true
   },
   "outputs": [
    {
     "data": {
      "text/plain": [
       "<AxesSubplot:xlabel='liveness', ylabel='Count'>"
      ]
     },
     "execution_count": 111,
     "metadata": {},
     "output_type": "execute_result"
    },
    {
     "data": {
      "image/png": "[encoded data removed]",
      "text/plain": [
       "<Figure size 640x480 with 1 Axes>"
      ]
     },
     "metadata": {},
     "output_type": "display_data"
    }
   ],
   "source": [
    "sns.histplot(data=data, x='liveness', kde=False)"
   ]
  },
  {
   "cell_type": "code",
   "execution_count": null,
   "id": "ffaf35fe",
   "metadata": {},
   "outputs": [],
   "source": []
  }
 ],
 "metadata": {
  "kernelspec": {
   "display_name": "Python 3 (ipykernel)",
   "language": "python",
   "name": "python3"
  },
  "language_info": {
   "codemirror_mode": {
    "name": "ipython",
    "version": 3
   },
   "file_extension": ".py",
   "mimetype": "text/x-python",
   "name": "python",
   "nbconvert_exporter": "python",
   "pygments_lexer": "ipython3",
   "version": "3.9.13"
  }
 },
 "nbformat": 4,
 "nbformat_minor": 5
}
