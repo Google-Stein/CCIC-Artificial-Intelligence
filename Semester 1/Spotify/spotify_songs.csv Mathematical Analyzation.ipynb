{
 "cells": [
  {
   "cell_type": "code",
   "execution_count": 1,
   "id": "43544776",
   "metadata": {
    "scrolled": false
   },
   "outputs": [
    {
     "name": "stdout",
     "output_type": "stream",
     "text": [
      "<class 'pandas.core.frame.DataFrame'>\n",
      "RangeIndex: 32833 entries, 0 to 32832\n",
      "Data columns (total 23 columns):\n",
      " #   Column                    Non-Null Count  Dtype  \n",
      "---  ------                    --------------  -----  \n",
      " 0   track_id                  32833 non-null  object \n",
      " 1   track_name                32828 non-null  object \n",
      " 2   track_artist              32828 non-null  object \n",
      " 3   track_popularity          32833 non-null  int64  \n",
      " 4   track_album_id            32833 non-null  object \n",
      " 5   track_album_name          32828 non-null  object \n",
      " 6   track_album_release_date  32833 non-null  object \n",
      " 7   playlist_name             32833 non-null  object \n",
      " 8   playlist_id               32833 non-null  object \n",
      " 9   playlist_genre            32833 non-null  object \n",
      " 10  playlist_subgenre         32833 non-null  object \n",
      " 11  danceability              32833 non-null  float64\n",
      " 12  energy                    32833 non-null  float64\n",
      " 13  key                       32833 non-null  int64  \n",
      " 14  loudness                  32833 non-null  float64\n",
      " 15  mode                      32833 non-null  int64  \n",
      " 16  speechiness               32833 non-null  float64\n",
      " 17  acousticness              32833 non-null  float64\n",
      " 18  instrumentalness          32833 non-null  float64\n",
      " 19  liveness                  32833 non-null  float64\n",
      " 20  valence                   32833 non-null  float64\n",
      " 21  tempo                     32833 non-null  float64\n",
      " 22  duration_ms               32833 non-null  int64  \n",
      "dtypes: float64(9), int64(4), object(10)\n",
      "memory usage: 5.8+ MB\n"
     ]
    },
    {
     "data": {
      "text/plain": [
       "(                 track_id                                         track_name  \\\n",
       " 0  6f807x0ima9a1j3VPbc7VN  I Don't Care (with Justin Bieber) - Loud Luxur...   \n",
       " 1  0r7CVbZTWZgbTCYdfa2P31                    Memories - Dillon Francis Remix   \n",
       " 2  1z1Hg7Vb0AhHDiEmnDE79l                    All the Time - Don Diablo Remix   \n",
       " 3  75FpbthrwQmzHlBJLuGdC7                  Call You Mine - Keanu Silva Remix   \n",
       " 4  1e8PAfcKUYoKkxPhrHqw4x            Someone You Loved - Future Humans Remix   \n",
       " \n",
       "        track_artist  track_popularity          track_album_id  \\\n",
       " 0        Ed Sheeran                66  2oCs0DGTsRO98Gh5ZSl2Cx   \n",
       " 1          Maroon 5                67  63rPSO264uRjW1X5E6cWv6   \n",
       " 2      Zara Larsson                70  1HoSmj2eLcsrR0vE9gThr4   \n",
       " 3  The Chainsmokers                60  1nqYsOef1yKKuGOVchbsk6   \n",
       " 4     Lewis Capaldi                69  7m7vv9wlQ4i0LFuJiE2zsQ   \n",
       " \n",
       "                                     track_album_name track_album_release_date  \\\n",
       " 0  I Don't Care (with Justin Bieber) [Loud Luxury...               2019-06-14   \n",
       " 1                    Memories (Dillon Francis Remix)               2019-12-13   \n",
       " 2                    All the Time (Don Diablo Remix)               2019-07-05   \n",
       " 3                        Call You Mine - The Remixes               2019-07-19   \n",
       " 4            Someone You Loved (Future Humans Remix)               2019-03-05   \n",
       " \n",
       "   playlist_name             playlist_id playlist_genre  ... key  loudness  \\\n",
       " 0     Pop Remix  37i9dQZF1DXcZDD7cfEKhW            pop  ...   6    -2.634   \n",
       " 1     Pop Remix  37i9dQZF1DXcZDD7cfEKhW            pop  ...  11    -4.969   \n",
       " 2     Pop Remix  37i9dQZF1DXcZDD7cfEKhW            pop  ...   1    -3.432   \n",
       " 3     Pop Remix  37i9dQZF1DXcZDD7cfEKhW            pop  ...   7    -3.778   \n",
       " 4     Pop Remix  37i9dQZF1DXcZDD7cfEKhW            pop  ...   1    -4.672   \n",
       " \n",
       "    mode  speechiness  acousticness  instrumentalness  liveness  valence  \\\n",
       " 0     1       0.0583        0.1020          0.000000    0.0653    0.518   \n",
       " 1     1       0.0373        0.0724          0.004210    0.3570    0.693   \n",
       " 2     0       0.0742        0.0794          0.000023    0.1100    0.613   \n",
       " 3     1       0.1020        0.0287          0.000009    0.2040    0.277   \n",
       " 4     1       0.0359        0.0803          0.000000    0.0833    0.725   \n",
       " \n",
       "      tempo  duration_ms  \n",
       " 0  122.036       194754  \n",
       " 1   99.972       162600  \n",
       " 2  124.008       176616  \n",
       " 3  121.956       169093  \n",
       " 4  123.976       189052  \n",
       " \n",
       " [5 rows x 23 columns],\n",
       " None)"
      ]
     },
     "execution_count": 1,
     "metadata": {},
     "output_type": "execute_result"
    }
   ],
   "source": [
    "import pandas as pd\n",
    "import seaborn as sns\n",
    "import matplotlib.pyplot as plt \n",
    "data = pd.read_csv('spotify_songs.csv')\n",
    "data.head(), data.info()\n"
   ]
  },
  {
   "cell_type": "code",
   "execution_count": 2,
   "id": "b27ded73",
   "metadata": {
    "scrolled": false
   },
   "outputs": [
    {
     "data": {
      "text/plain": [
       "<AxesSubplot:xlabel='track_popularity', ylabel='Count'>"
      ]
     },
     "execution_count": 2,
     "metadata": {},
     "output_type": "execute_result"
    },
    {
     "data": {
      "image/png": "[encoded data removed]",
      "text/plain": [
       "<Figure size 640x480 with 1 Axes>"
      ]
     },
     "metadata": {},
     "output_type": "display_data"
    }
   ],
   "source": [
    "sns.histplot(data=data, x=\"track_popularity\", bins=100, kde=False)"
   ]
  },
  {
   "cell_type": "markdown",
   "id": "c8f8c2b8",
   "metadata": {},
   "source": [
    "# Distribution of Popularity\n",
    "### _________________________________"
   ]
  },
  {
   "cell_type": "markdown",
   "id": "2121204a",
   "metadata": {},
   "source": [
    "# Data Analyzation\n",
    "\n",
    "## The track popularity peaks at 0 popularity, which interesting, and possibly hints towards unknown songs being inlucded into the list set\n",
    "\n",
    "## Aside from the peak at 0, there is a large data conglomerated at around the 40-60 range. This suggests the area where the most data lies. As such (Ignoring the peak) We can see a relativily normal bell curve.\n",
    "\n",
    "## The max popularity is 100"
   ]
  },
  {
   "cell_type": "code",
   "execution_count": 3,
   "id": "76542cb1",
   "metadata": {
    "scrolled": true
   },
   "outputs": [
    {
     "data": {
      "text/plain": [
       "<AxesSubplot:xlabel='track_popularity'>"
      ]
     },
     "execution_count": 3,
     "metadata": {},
     "output_type": "execute_result"
    },
    {
     "data": {
      "image/png": "[encoded data removed]",
      "text/plain": [
       "<Figure size 640x480 with 1 Axes>"
      ]
     },
     "metadata": {},
     "output_type": "display_data"
    }
   ],
   "source": [
    "sns.boxplot(data=data, x=\"track_popularity\")"
   ]
  },
  {
   "cell_type": "markdown",
   "id": "ac28c778",
   "metadata": {},
   "source": [
    "## We can clearly see the largest range for data in this data set is between around 22-62 populalrity score, comprising the highest amount of counts\n",
    "\n",
    "## Being a comparison of popularity scores that can only possibly range from 0-100, it's no wonder that our data reaches both of these polarities\n",
    "\n",
    "## Median value is 45, which is less than half of the data of our distribution"
   ]
  },
  {
   "cell_type": "code",
   "execution_count": 4,
   "id": "2c60ab17",
   "metadata": {},
   "outputs": [
    {
     "data": {
      "text/plain": [
       "{'Max': 100, 'Q3': 62.0, 'Med': 45.0, 'Min': 0, 'Q1': 24.0}"
      ]
     },
     "execution_count": 4,
     "metadata": {},
     "output_type": "execute_result"
    }
   ],
   "source": [
    "summary = {\n",
    "    \"Max\": data[\"track_popularity\"].max(),\n",
    "    \"Q3\": data[\"track_popularity\"].quantile(0.75),\n",
    "    \"Med\": data[\"track_popularity\"].median(),\n",
    "    \"Min\": data[\"track_popularity\"].min(),\n",
    "    \"Q1\": data[\"track_popularity\"].quantile(0.25)\n",
    "}\n",
    "summary"
   ]
  },
  {
   "cell_type": "code",
   "execution_count": 5,
   "id": "afea6097",
   "metadata": {},
   "outputs": [
    {
     "data": {
      "text/plain": [
       "'average = 0\\ndef avg(col):\\n    for value in col:\\n        sum += value\\n        sum/len(col)\\n        average = col.mean()\\n        return average'"
      ]
     },
     "execution_count": 5,
     "metadata": {},
     "output_type": "execute_result"
    }
   ],
   "source": [
    "'''average = 0\n",
    "def avg(col):\n",
    "    for value in col:\n",
    "        sum += value\n",
    "        sum/len(col)\n",
    "        average = col.mean()\n",
    "        return average''' "
   ]
  },
  {
   "cell_type": "code",
   "execution_count": 6,
   "id": "59fd48f5",
   "metadata": {},
   "outputs": [
    {
     "name": "stdout",
     "output_type": "stream",
     "text": [
      "Track Popularity--> : 42.477080985593766\n"
     ]
    }
   ],
   "source": [
    "def avg(column):\n",
    "    return column.mean()\n",
    "\n",
    "average_tempo = avg(data['track_popularity'])\n",
    "\n",
    "print(\"Track Popularity--> :\", average_tempo)"
   ]
  },
  {
   "cell_type": "code",
   "execution_count": 7,
   "id": "e3e4d1ef",
   "metadata": {},
   "outputs": [
    {
     "name": "stdout",
     "output_type": "stream",
     "text": [
      "Average Tempo--> : 120.88113154448297\n"
     ]
    }
   ],
   "source": [
    "def avgT(column):\n",
    "    return column.mean()\n",
    "\n",
    "average_tempo = avgT(data['tempo'])\n",
    "\n",
    "print(\"Average Tempo--> :\", average_tempo)"
   ]
  },
  {
   "cell_type": "code",
   "execution_count": 8,
   "id": "79a09375",
   "metadata": {},
   "outputs": [
    {
     "name": "stdout",
     "output_type": "stream",
     "text": [
      "Standard Deviation of Danceability--> : 0.14508532044765107\n"
     ]
    }
   ],
   "source": [
    "def dev(column):\n",
    "    return column.std()\n",
    "\n",
    "stand_dev = dev(data['danceability'])\n",
    "\n",
    "print(\"Standard Deviation of Danceability--> :\", stand_dev)"
   ]
  },
  {
   "cell_type": "code",
   "execution_count": 9,
   "id": "6c01e3e6",
   "metadata": {},
   "outputs": [
    {
     "name": "stdout",
     "output_type": "stream",
     "text": [
      "Standard Deviation of danceability --> : 0.14508532044765107\n"
     ]
    }
   ],
   "source": [
    "def standard_deviation(column):\n",
    "    std = data[column].std()\n",
    "    return std\n",
    "\n",
    "print(\"Standard Deviation of danceability --> :\", standard_deviation('danceability'))"
   ]
  },
  {
   "cell_type": "code",
   "execution_count": 10,
   "id": "287e2ba6",
   "metadata": {},
   "outputs": [
    {
     "data": {
      "text/plain": [
       "<AxesSubplot:xlabel='danceability', ylabel='Count'>"
      ]
     },
     "execution_count": 10,
     "metadata": {},
     "output_type": "execute_result"
    },
    {
     "data": {
      "image/png": "[encoded data removed]",
      "text/plain": [
       "<Figure size 640x480 with 1 Axes>"
      ]
     },
     "metadata": {},
     "output_type": "display_data"
    }
   ],
   "source": [
    "sns.histplot(data=data, x='danceability', bins=100, kde=False)"
   ]
  },
  {
   "cell_type": "code",
   "execution_count": 11,
   "id": "dfd60586",
   "metadata": {},
   "outputs": [
    {
     "data": {
      "text/plain": [
       "<AxesSubplot:xlabel='danceability'>"
      ]
     },
     "execution_count": 11,
     "metadata": {},
     "output_type": "execute_result"
    },
    {
     "data": {
      "image/png": "[encoded data removed]",
      "text/plain": [
       "<Figure size 640x480 with 1 Axes>"
      ]
     },
     "metadata": {},
     "output_type": "display_data"
    }
   ],
   "source": [
    "sns.boxplot(data=data, x=\"danceability\")"
   ]
  },
  {
   "cell_type": "code",
   "execution_count": 12,
   "id": "b33ff507",
   "metadata": {},
   "outputs": [
    {
     "name": "stdout",
     "output_type": "stream",
     "text": [
      "Track danceability--> : 0.6548495202996926\n"
     ]
    }
   ],
   "source": [
    "def avg(column):\n",
    "    return column.mean()\n",
    "\n",
    "average_tempo = avg(data['danceability'])\n",
    "\n",
    "print(\"Track danceability--> :\", average_tempo)"
   ]
  },
  {
   "cell_type": "code",
   "execution_count": 13,
   "id": "09e7360f",
   "metadata": {},
   "outputs": [
    {
     "data": {
      "text/plain": [
       "<AxesSubplot:xlabel='instrumentalness', ylabel='Count'>"
      ]
     },
     "execution_count": 13,
     "metadata": {},
     "output_type": "execute_result"
    },
    {
     "data": {
      "image/png": "[encoded data removed]",
      "text/plain": [
       "<Figure size 640x480 with 1 Axes>"
      ]
     },
     "metadata": {},
     "output_type": "display_data"
    }
   ],
   "source": [
    "sns.histplot(data=data, x='instrumentalness', bins=100, kde=False)"
   ]
  },
  {
   "cell_type": "code",
   "execution_count": 14,
   "id": "02d4a16f",
   "metadata": {},
   "outputs": [
    {
     "ename": "SyntaxError",
     "evalue": "EOF while scanning triple-quoted string literal (1744461671.py, line 8)",
     "output_type": "error",
     "traceback": [
      "\u001b[1;36m  File \u001b[1;32m\"C:\\Users\\lochoahernandez\\AppData\\Local\\Temp\\ipykernel_25156\\1744461671.py\"\u001b[1;36m, line \u001b[1;32m8\u001b[0m\n\u001b[1;33m    avg(data[\"bpm\"])\u001b[0m\n\u001b[1;37m                    \n^\u001b[0m\n\u001b[1;31mSyntaxError\u001b[0m\u001b[1;31m:\u001b[0m EOF while scanning triple-quoted string literal\n"
     ]
    }
   ],
   "source": [
    "'''def avg(column):\n",
    "    sum = 0\n",
    "    for value in column:\n",
    "        sum += value\n",
    "        sum/len(column)\n",
    "        return avg\n",
    "    \n",
    "avg(data[\"bpm\"])"
   ]
  },
  {
   "cell_type": "code",
   "execution_count": null,
   "id": "a403b7d8",
   "metadata": {},
   "outputs": [],
   "source": [
    "def standard_deviation(column):\n",
    "    std = data[column].std()\n",
    "    return std\n",
    "\n",
    "print(\"Standard Deviation of liveness--> :\", standard_deviation('liveness'))"
   ]
  },
  {
   "cell_type": "code",
   "execution_count": null,
   "id": "cde0facf",
   "metadata": {},
   "outputs": [],
   "source": [
    "def avg(column):\n",
    "    return column.mean()\n",
    "\n",
    "average_tempo = avg(data['liveness'])\n",
    "\n",
    "print(\"Track liveness--> :\", average_tempo)"
   ]
  },
  {
   "cell_type": "code",
   "execution_count": null,
   "id": "5ea2815f",
   "metadata": {},
   "outputs": [],
   "source": [
    "idx = 0\n",
    "for person in data[\"track_name\"]:\n",
    "    if \"Dance Monkey\" in person and data.loc[idx]['track_popularity'] >= 100:\n",
    "        break\n",
    "    idx += 1\n",
    "data.loc[idx]"
   ]
  },
  {
   "cell_type": "markdown",
   "id": "38117b80",
   "metadata": {},
   "source": [
    "> # Analyzation of Dance Monkey by *Tones and I*\n",
    "## An objective analysis of it's populoarity, and quatitative reasoning as to the legitimacy of it's record\n",
    "\n",
    "### We can see a few important catagories that are crucial to understanding why it's popular. These catagores include Danceability, Energy, Liveness, Tempo, and more. To understand why it's listed with 100 popularity, we have to see how it falls on the dataset among these catagories. \n",
    "\n",
    "## 1. Danceability "
   ]
  },
  {
   "cell_type": "code",
   "execution_count": null,
   "id": "5eaeef40",
   "metadata": {},
   "outputs": [],
   "source": [
    "def avgDance(column): \n",
    "    return(column.mean())\n",
    "           \n",
    "dance = avg(data['danceability'])\n",
    "           \n",
    "print(\"Average Danceability:\", dance)"
   ]
  },
  {
   "cell_type": "markdown",
   "id": "9193567f",
   "metadata": {},
   "source": [
    "#### Average danceability shows itself at .654 while Dance Monkey is at .824, much higher than the mean. In fact, with a SD of about .145, It's over 2 SD from the mean, pushing itself to over the top 95% in terms of Danceability"
   ]
  },
  {
   "cell_type": "markdown",
   "id": "e123282c",
   "metadata": {},
   "source": [
    "# 2. Energy"
   ]
  },
  {
   "cell_type": "code",
   "execution_count": null,
   "id": "db723eaa",
   "metadata": {
    "scrolled": false
   },
   "outputs": [],
   "source": [
    "def avgEnergy(column):\n",
    "    return(column.mean())\n",
    "\n",
    "Energy = avg(data['energy'])\n",
    "\n",
    "print(\"Average Energy:\", Energy)"
   ]
  },
  {
   "cell_type": "markdown",
   "id": "3ab5703e",
   "metadata": {},
   "source": [
    "#### Average Energy shows itself at .698 while Dance Monkey is performing at around .588 instead. For a song of this genre type, it's notable for the lower than mean score, esspecially when paried with it's #1 popularity score of 100. It's performing at the lower half of one standard deviation however, so despite it's lower than expected score, it's still relatvely in the average of the dataset."
   ]
  },
  {
   "cell_type": "code",
   "execution_count": null,
   "id": "0a96c102",
   "metadata": {},
   "outputs": [],
   "source": [
    "def standardDev(column):\n",
    "    standardDev = data[column].std()\n",
    "    return standardDev\n",
    "\n",
    "print(\"Standard Deviation of Energy:\", standardDev('energy'))"
   ]
  },
  {
   "cell_type": "code",
   "execution_count": null,
   "id": "94d04104",
   "metadata": {},
   "outputs": [],
   "source": [
    "sns.histplot(data=data, x='energy', kde=False)"
   ]
  },
  {
   "cell_type": "markdown",
   "id": "9c72300e",
   "metadata": {},
   "source": [
    "# 3. Liveliness"
   ]
  },
  {
   "cell_type": "markdown",
   "id": "5ffa1b1f",
   "metadata": {},
   "source": [
    "#### Dance Monkey has a liveliness of .149, which is the most significant / surprising dataset since the average liveliness of the data set is actually .190. This is notable in terms that while it fits within one standard deviation (.154), where 68% of the data ranges from  .036 to .344 in terms of Liveleness ranking. "
   ]
  },
  {
   "cell_type": "code",
   "execution_count": null,
   "id": "4ac8feb4",
   "metadata": {},
   "outputs": [],
   "source": [
    "def avgliveness(column):\n",
    "    return(column.mean())\n",
    "\n",
    "liveness = avg(data['liveness'])\n",
    "\n",
    "print(\"Average Liveliness:\", liveness)"
   ]
  },
  {
   "cell_type": "code",
   "execution_count": null,
   "id": "f4f9af0f",
   "metadata": {
    "scrolled": false
   },
   "outputs": [],
   "source": [
    "sns.histplot(data=data, x='liveness', kde=False)"
   ]
  },
  {
   "cell_type": "code",
   "execution_count": null,
   "id": "4d65c4b9",
   "metadata": {},
   "outputs": [],
   "source": [
    "def standardDevDance(column):\n",
    "    standardDevDance = data[column].std()\n",
    "    return standardDevDance\n",
    "\n",
    "print(\"Standard Deviation of Liveness:\", standardDevDance('liveness'))"
   ]
  },
  {
   "cell_type": "markdown",
   "id": "63c74496",
   "metadata": {},
   "source": [
    "># Final Observed Anaylsis"
   ]
  },
  {
   "cell_type": "markdown",
   "id": "f706357b",
   "metadata": {},
   "source": [
    "### It's clear that the song Dance Monkey by the Artist Tones and I is not in deserving of the 100 populariy ranking in the dataset. Aside from it's positive ranking in the top 95% for the Danceability, that is overshadowed by it's less than impresive results for both Energy and for Liveness. \n",
    "\n",
    "### Considering it's genre of pop, which is charactized by high amounts of Energy, Danceability, Liveness, and generalized tempo; Dance Monkey repeatedly falls short of higher percentiles, instead remaining in the average or low of most catagories. "
   ]
  },
  {
   "cell_type": "markdown",
   "id": "04f8134a",
   "metadata": {},
   "source": [
    "### *It is not deserving of 100 popularity, with it's rightful place instead in the average of popularity, much like the rest of it's standings*"
   ]
  },
  {
   "cell_type": "code",
   "execution_count": 17,
   "id": "da2f82c5",
   "metadata": {
    "scrolled": false
   },
   "outputs": [
    {
     "data": {
      "text/plain": [
       "<AxesSubplot:xlabel='track_popularity', ylabel='Count'>"
      ]
     },
     "execution_count": 17,
     "metadata": {},
     "output_type": "execute_result"
    },
    {
     "data": {
      "image/png": "[encoded data removed]",
      "text/plain": [
       "<Figure size 640x480 with 1 Axes>"
      ]
     },
     "metadata": {},
     "output_type": "display_data"
    }
   ],
   "source": [
    "sns.histplot(data=data, x='track_popularity', kde=False)"
   ]
  },
  {
   "cell_type": "code",
   "execution_count": 33,
   "id": "781ae749",
   "metadata": {},
   "outputs": [
    {
     "ename": "SyntaxError",
     "evalue": "invalid syntax (938135499.py, line 3)",
     "output_type": "error",
     "traceback": [
      "\u001b[1;36m  File \u001b[1;32m\"C:\\Users\\lochoahernandez\\AppData\\Local\\Temp\\ipykernel_25156\\938135499.py\"\u001b[1;36m, line \u001b[1;32m3\u001b[0m\n\u001b[1;33m    print(\"Rap\" rap_mean, \"Pop:\" pop_mean)\u001b[0m\n\u001b[1;37m                ^\u001b[0m\n\u001b[1;31mSyntaxError\u001b[0m\u001b[1;31m:\u001b[0m invalid syntax\n"
     ]
    }
   ],
   "source": [
    "data_pop = data[data['playlist_genre'] == 'pop']\n",
    "data_rap = data[data['playlist_genre'] == 'rap']"
   ]
  },
  {
   "cell_type": "code",
   "execution_count": 29,
   "id": "ceaa3793",
   "metadata": {},
   "outputs": [
    {
     "data": {
      "text/plain": [
       "<AxesSubplot:xlabel='speechiness', ylabel='Count'>"
      ]
     },
     "execution_count": 29,
     "metadata": {},
     "output_type": "execute_result"
    },
    {
     "data": {
      "image/png": "[encoded data removed]",
      "text/plain": [
       "<Figure size 640x480 with 1 Axes>"
      ]
     },
     "metadata": {},
     "output_type": "display_data"
    }
   ],
   "source": [
    "sns.histplot(data=data_pop, x='speechiness', bins=100, kde=False, color=\"purple\")"
   ]
  },
  {
   "cell_type": "code",
   "execution_count": 30,
   "id": "0ee98f68",
   "metadata": {
    "scrolled": false
   },
   "outputs": [
    {
     "data": {
      "text/plain": [
       "<AxesSubplot:xlabel='speechiness', ylabel='Count'>"
      ]
     },
     "execution_count": 30,
     "metadata": {},
     "output_type": "execute_result"
    },
    {
     "data": {
      "image/png": "[encoded data removed]",
      "text/plain": [
       "<Figure size 640x480 with 1 Axes>"
      ]
     },
     "metadata": {},
     "output_type": "display_data"
    }
   ],
   "source": [
    "sns.histplot(data=data_rap, x='speechiness',bins=100, kde=False)"
   ]
  },
  {
   "cell_type": "code",
   "execution_count": 32,
   "id": "4d440622",
   "metadata": {},
   "outputs": [
    {
     "data": {
      "text/plain": [
       "<AxesSubplot:xlabel='speechiness', ylabel='Count'>"
      ]
     },
     "execution_count": 32,
     "metadata": {},
     "output_type": "execute_result"
    },
    {
     "data": {
      "image/png": "[encoded data removed]",
      "text/plain": [
       "<Figure size 640x480 with 1 Axes>"
      ]
     },
     "metadata": {},
     "output_type": "display_data"
    }
   ],
   "source": [
    "sns.histplot(data=data_pop, x='speechiness', bins=500, kde=False, color=\"purple\")\n",
    "sns.histplot(data=data_rap, x='speechiness', bins=500, kde=False, color=\"red\")"
   ]
  },
  {
   "cell_type": "markdown",
   "id": "b12c1942",
   "metadata": {},
   "source": [
    "#### On average, Rap music is more speechy than Pop music, as shown clearly on the combined histograms. Rap -> .1975 while Pop -> .07399, clearly representing this distribution of data. "
   ]
  },
  {
   "cell_type": "code",
   "execution_count": null,
   "id": "2af5e9b5",
   "metadata": {},
   "outputs": [],
   "source": []
  }
 ],
 "metadata": {
  "kernelspec": {
   "display_name": "Python 3 (ipykernel)",
   "language": "python",
   "name": "python3"
  },
  "language_info": {
   "codemirror_mode": {
    "name": "ipython",
    "version": 3
   },
   "file_extension": ".py",
   "mimetype": "text/x-python",
   "name": "python",
   "nbconvert_exporter": "python",
   "pygments_lexer": "ipython3",
   "version": "3.9.13"
  }
 },
 "nbformat": 4,
 "nbformat_minor": 5
}
