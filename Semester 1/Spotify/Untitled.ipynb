{
 "cells": [
  {
   "cell_type": "code",
   "execution_count": 1,
   "id": "a3e3b06d",
   "metadata": {},
   "outputs": [],
   "source": [
    "import pandas as pd\n",
    "import seaborn as sns\n",
    "import matplotlib.pyplot as plt  # Add this\n",
    "\n",
    "df = pd.read_csv(\"spotify2023.csv\", encoding='ISO-8859-1')\n",
    "df_winterspring = df[df[\"released_month\"] <= 6]\n",
    "df_summerfall = df[df[\"released_month\"] > 6]\n",
    "\n",
    "def overlayHistograms(bottom, top, x, bins, color=\"blue\"):\n",
    "    sns.histplot(data=bottom, x=x, bins=bins, color=\"orange\")\n",
    "    sns.histplot(data=top, x=x, bins=bins)\n",
    "    plt.show()  # Add this to display the plot\n"
   ]
  },
  {
   "cell_type": "code",
   "execution_count": null,
   "id": "68d66d87",
   "metadata": {},
   "outputs": [],
   "source": []
  }
 ],
 "metadata": {
  "kernelspec": {
   "display_name": "Python 3 (ipykernel)",
   "language": "python",
   "name": "python3"
  },
  "language_info": {
   "codemirror_mode": {
    "name": "ipython",
    "version": 3
   },
   "file_extension": ".py",
   "mimetype": "text/x-python",
   "name": "python",
   "nbconvert_exporter": "python",
   "pygments_lexer": "ipython3",
   "version": "3.9.13"
  }
 },
 "nbformat": 4,
 "nbformat_minor": 5
}
