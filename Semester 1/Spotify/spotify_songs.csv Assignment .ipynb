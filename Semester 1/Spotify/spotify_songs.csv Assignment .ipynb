{
 "cells": [
  {
   "cell_type": "code",
   "execution_count": 13,
   "id": "8384fce4",
   "metadata": {
    "scrolled": false
   },
   "outputs": [
    {
     "name": "stdout",
     "output_type": "stream",
     "text": [
      "<class 'pandas.core.frame.DataFrame'>\n",
      "RangeIndex: 32833 entries, 0 to 32832\n",
      "Data columns (total 23 columns):\n",
      " #   Column                    Non-Null Count  Dtype  \n",
      "---  ------                    --------------  -----  \n",
      " 0   track_id                  32833 non-null  object \n",
      " 1   track_name                32828 non-null  object \n",
      " 2   track_artist              32828 non-null  object \n",
      " 3   track_popularity          32833 non-null  int64  \n",
      " 4   track_album_id            32833 non-null  object \n",
      " 5   track_album_name          32828 non-null  object \n",
      " 6   track_album_release_date  32833 non-null  object \n",
      " 7   playlist_name             32833 non-null  object \n",
      " 8   playlist_id               32833 non-null  object \n",
      " 9   playlist_genre            32833 non-null  object \n",
      " 10  playlist_subgenre         32833 non-null  object \n",
      " 11  danceability              32833 non-null  float64\n",
      " 12  energy                    32833 non-null  float64\n",
      " 13  key                       32833 non-null  int64  \n",
      " 14  loudness                  32833 non-null  float64\n",
      " 15  mode                      32833 non-null  int64  \n",
      " 16  speechiness               32833 non-null  float64\n",
      " 17  acousticness              32833 non-null  float64\n",
      " 18  instrumentalness          32833 non-null  float64\n",
      " 19  liveness                  32833 non-null  float64\n",
      " 20  valence                   32833 non-null  float64\n",
      " 21  tempo                     32833 non-null  float64\n",
      " 22  duration_ms               32833 non-null  int64  \n",
      "dtypes: float64(9), int64(4), object(10)\n",
      "memory usage: 5.8+ MB\n"
     ]
    },
    {
     "data": {
      "text/plain": [
       "(                 track_id                                         track_name  \\\n",
       " 0  6f807x0ima9a1j3VPbc7VN  I Don't Care (with Justin Bieber) - Loud Luxur...   \n",
       " 1  0r7CVbZTWZgbTCYdfa2P31                    Memories - Dillon Francis Remix   \n",
       " 2  1z1Hg7Vb0AhHDiEmnDE79l                    All the Time - Don Diablo Remix   \n",
       " 3  75FpbthrwQmzHlBJLuGdC7                  Call You Mine - Keanu Silva Remix   \n",
       " 4  1e8PAfcKUYoKkxPhrHqw4x            Someone You Loved - Future Humans Remix   \n",
       " \n",
       "        track_artist  track_popularity          track_album_id  \\\n",
       " 0        Ed Sheeran                66  2oCs0DGTsRO98Gh5ZSl2Cx   \n",
       " 1          Maroon 5                67  63rPSO264uRjW1X5E6cWv6   \n",
       " 2      Zara Larsson                70  1HoSmj2eLcsrR0vE9gThr4   \n",
       " 3  The Chainsmokers                60  1nqYsOef1yKKuGOVchbsk6   \n",
       " 4     Lewis Capaldi                69  7m7vv9wlQ4i0LFuJiE2zsQ   \n",
       " \n",
       "                                     track_album_name track_album_release_date  \\\n",
       " 0  I Don't Care (with Justin Bieber) [Loud Luxury...               2019-06-14   \n",
       " 1                    Memories (Dillon Francis Remix)               2019-12-13   \n",
       " 2                    All the Time (Don Diablo Remix)               2019-07-05   \n",
       " 3                        Call You Mine - The Remixes               2019-07-19   \n",
       " 4            Someone You Loved (Future Humans Remix)               2019-03-05   \n",
       " \n",
       "   playlist_name             playlist_id playlist_genre  ... key  loudness  \\\n",
       " 0     Pop Remix  37i9dQZF1DXcZDD7cfEKhW            pop  ...   6    -2.634   \n",
       " 1     Pop Remix  37i9dQZF1DXcZDD7cfEKhW            pop  ...  11    -4.969   \n",
       " 2     Pop Remix  37i9dQZF1DXcZDD7cfEKhW            pop  ...   1    -3.432   \n",
       " 3     Pop Remix  37i9dQZF1DXcZDD7cfEKhW            pop  ...   7    -3.778   \n",
       " 4     Pop Remix  37i9dQZF1DXcZDD7cfEKhW            pop  ...   1    -4.672   \n",
       " \n",
       "    mode  speechiness  acousticness  instrumentalness  liveness  valence  \\\n",
       " 0     1       0.0583        0.1020          0.000000    0.0653    0.518   \n",
       " 1     1       0.0373        0.0724          0.004210    0.3570    0.693   \n",
       " 2     0       0.0742        0.0794          0.000023    0.1100    0.613   \n",
       " 3     1       0.1020        0.0287          0.000009    0.2040    0.277   \n",
       " 4     1       0.0359        0.0803          0.000000    0.0833    0.725   \n",
       " \n",
       "      tempo  duration_ms  \n",
       " 0  122.036       194754  \n",
       " 1   99.972       162600  \n",
       " 2  124.008       176616  \n",
       " 3  121.956       169093  \n",
       " 4  123.976       189052  \n",
       " \n",
       " [5 rows x 23 columns],\n",
       " None)"
      ]
     },
     "execution_count": 13,
     "metadata": {},
     "output_type": "execute_result"
    }
   ],
   "source": [
    "import pandas as pd\n",
    "import seaborn as sns\n",
    "\n",
    "data = pd.read_csv('spotify_songs.csv')\n",
    "data.head(), data.info()\n"
   ]
  },
  {
   "cell_type": "code",
   "execution_count": 16,
   "id": "c90ceb39",
   "metadata": {
    "scrolled": false
   },
   "outputs": [
    {
     "data": {
      "text/plain": [
       "<AxesSubplot:xlabel='track_popularity', ylabel='Count'>"
      ]
     },
     "execution_count": 16,
     "metadata": {},
     "output_type": "execute_result"
    },
    {
     "data": {
      "image/png": "[encoded data removed]",
      "text/plain": [
       "<Figure size 640x480 with 1 Axes>"
      ]
     },
     "metadata": {},
     "output_type": "display_data"
    }
   ],
   "source": [
    "sns.histplot(data=data, x=\"track_popularity\", bins=100, kde=False)"
   ]
  },
  {
   "cell_type": "markdown",
   "id": "56e7605c",
   "metadata": {},
   "source": [
    "# Distribution of Popularity\n",
    "### _________________________________"
   ]
  },
  {
   "cell_type": "markdown",
   "id": "b6d7779f",
   "metadata": {},
   "source": [
    "# Data Analyzation\n",
    "\n",
    "## The track popularity peaks at 0 popularity, which interesting, and possibly hints towards unknown songs being inlucded into the list set\n",
    "\n",
    "## Aside from the peak at 0, there is a large data conglomerated at around the 40-60 range. This suggests the area where the most data lies. As such (Ignoring the peak) We can see a relativily normal bell curve.\n",
    "\n",
    "## The max popularity is 100"
   ]
  },
  {
   "cell_type": "code",
   "execution_count": 9,
   "id": "5d5329a1",
   "metadata": {
    "scrolled": true
   },
   "outputs": [
    {
     "data": {
      "text/plain": [
       "<AxesSubplot:xlabel='track_popularity'>"
      ]
     },
     "execution_count": 9,
     "metadata": {},
     "output_type": "execute_result"
    },
    {
     "data": {
      "image/png": "[encoded data removed]",
      "text/plain": [
       "<Figure size 640x480 with 1 Axes>"
      ]
     },
     "metadata": {},
     "output_type": "display_data"
    }
   ],
   "source": [
    "sns.boxplot(data=data, x=\"track_popularity\")"
   ]
  },
  {
   "cell_type": "markdown",
   "id": "f163069a",
   "metadata": {},
   "source": [
    "## We can clearly see the largest range for data in this data set is between around 22-62 populalrity score, comprising the highest amount of counts\n",
    "\n",
    "## Being a comparison of popularity scores that can only possibly range from 0-100, it's no wonder that our data reaches both of these polarities\n",
    "\n",
    "## Median value is 45, which is less than half of the data of our distribution"
   ]
  },
  {
   "cell_type": "code",
   "execution_count": 19,
   "id": "b8ffe9d3",
   "metadata": {},
   "outputs": [
    {
     "data": {
      "text/plain": [
       "{'Max': 100, 'Q3': 62.0, 'Med': 45.0, 'Min': 0, 'Q1': 24.0}"
      ]
     },
     "execution_count": 19,
     "metadata": {},
     "output_type": "execute_result"
    }
   ],
   "source": [
    "summary = {\n",
    "    \"Max\": data[\"track_popularity\"].max(),\n",
    "    \"Q3\": data[\"track_popularity\"].quantile(0.75),\n",
    "    \"Med\": data[\"track_popularity\"].median(),\n",
    "    \"Min\": data[\"track_popularity\"].min(),\n",
    "    \"Q1\": data[\"track_popularity\"].quantile(0.25)\n",
    "}\n",
    "summary"
   ]
  },
  {
   "cell_type": "code",
   "execution_count": 49,
   "id": "3abfac0a",
   "metadata": {},
   "outputs": [],
   "source": [
    "'''average = 0\n",
    "def avg(col):\n",
    "    for value in col:\n",
    "        sum += value\n",
    "        sum/len(col)\n",
    "        average = col.mean()\n",
    "        return average''' "
   ]
  },
  {
   "cell_type": "code",
   "execution_count": 54,
   "id": "edd6b90a",
   "metadata": {},
   "outputs": [
    {
     "name": "stdout",
     "output_type": "stream",
     "text": [
      "Average Tempo--> : 42.477080985593766\n"
     ]
    }
   ],
   "source": [
    "def avg(column):\n",
    "    return column.mean()\n",
    "\n",
    "average_tempo = avg(data['track_popularity'])\n",
    "\n",
    "print(\"Average Tempo--> :\", average_tempo)"
   ]
  },
  {
   "cell_type": "code",
   "execution_count": null,
   "id": "6ed1fd00",
   "metadata": {},
   "outputs": [],
   "source": []
  }
 ],
 "metadata": {
  "kernelspec": {
   "display_name": "Python 3 (ipykernel)",
   "language": "python",
   "name": "python3"
  },
  "language_info": {
   "codemirror_mode": {
    "name": "ipython",
    "version": 3
   },
   "file_extension": ".py",
   "mimetype": "text/x-python",
   "name": "python",
   "nbconvert_exporter": "python",
   "pygments_lexer": "ipython3",
   "version": "3.9.13"
  }
 },
 "nbformat": 4,
 "nbformat_minor": 5
}
