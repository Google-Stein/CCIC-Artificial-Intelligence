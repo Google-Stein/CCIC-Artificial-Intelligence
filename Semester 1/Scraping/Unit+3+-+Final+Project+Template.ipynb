{
 "cells": [
  {
   "cell_type": "markdown",
   "id": "9919c268",
   "metadata": {},
   "source": [
    "# Choose a Data Set\n",
    "\n",
    "Create your own dataset by scraping one of the following websites *(level 5)*:\n",
    "- [Wikipedia](https://www.wikipedia.org/)\n",
    "- [OpenLibrary](https://openlibrary.org/)\n",
    "\n",
    "**OR** \n",
    "\n",
    "Use data gathered from one of the following APIs *(level 4)*: \n",
    "- [TMDB](https://developer.themoviedb.org/reference/intro/getting-started)\n",
    "- [College Scorecard](https://collegescorecard.ed.gov/data/api-documentation/)\n",
    "\n",
    "**OR** \n",
    "\n",
    "Pick a JSON dataset *(level 3)*:\n",
    "- [Food/Restaurant Data](https://drive.google.com/drive/folders/1V94S6WpclvQmbnW88KVMD4EruryA1oma?usp=drive_link)\n",
    "- [Fashion Data](https://drive.google.com/drive/folders/1V8SbFjtRRW8WVf3xBzg0gzLjOtMhHea_?usp=drive_link)\n",
    "\n",
    "**OR** \n",
    "\n",
    "Pick a CSV dataset *(level 2)*:\n",
    "- [LA Parking Tickets](https://drive.google.com/drive/folders/1vaOfwMi6QmZEGsXr8VM0ulPGzvTTBCgm?usp=drive_link)\n",
    "- [Hotels](https://drive.google.com/drive/folders/1IpVFxgwBJvJHKoOuBsk6WK2qYqFYP4hi?usp=drive_link)"
   ]
  },
  {
   "cell_type": "markdown",
   "id": "ae147ea6",
   "metadata": {},
   "source": [
    "# My Question\n",
    "### Write your question here."
   ]
  },
  {
   "cell_type": "markdown",
   "id": "149f324f",
   "metadata": {},
   "source": [
    "# In a randomly selected choice, what is the expected amount of employees and revenue of a company?"
   ]
  },
  {
   "cell_type": "code",
   "execution_count": 2,
   "id": "b228559e",
   "metadata": {},
   "outputs": [
    {
     "name": "stdout",
     "output_type": "stream",
     "text": [
      "Page Title: List of ongoing armed conflicts - Wikipedia\n"
     ]
    }
   ],
   "source": [
    "import requests\n",
    "from bs4 import BeautifulSoup as bs\n",
    "import pandas as pd\n",
    "\n",
    "url = \"https://en.wikipedia.org/wiki/List_of_ongoing_armed_conflicts\"\n",
    "\n",
    "response = requests.get(url)\n",
    "soup = bs(response.text, 'html.parser')\n",
    "\n",
    "page_title = soup.title.string\n",
    "print(\"Page Title:\", page_title)\n"
   ]
  },
  {
   "cell_type": "code",
   "execution_count": null,
   "id": "8b695f8d",
   "metadata": {},
   "outputs": [
    {
     "ename": "AttributeError",
     "evalue": "ResultSet object has no attribute 'find'. You're probably treating a list of elements like a single element. Did you call find_all() when you meant to call find()?",
     "output_type": "error",
     "traceback": [
      "\u001b[1;31m---------------------------------------------------------------------------\u001b[0m",
      "\u001b[1;31mAttributeError\u001b[0m                            Traceback (most recent call last)",
      "Cell \u001b[1;32mIn[3], line 1\u001b[0m\n\u001b[1;32m----> 1\u001b[0m info \u001b[38;5;241m=\u001b[39m \u001b[43msoup\u001b[49m\u001b[38;5;241;43m.\u001b[39;49m\u001b[43mfind\u001b[49m\u001b[43m(\u001b[49m\u001b[38;5;124;43m\"\u001b[39;49m\u001b[38;5;124;43mtable\u001b[39;49m\u001b[38;5;124;43m\"\u001b[39;49m\u001b[43m,\u001b[49m\u001b[43m \u001b[49m\u001b[38;5;28;43mid\u001b[39;49m\u001b[38;5;241;43m=\u001b[39;49m\u001b[38;5;124;43m\"\u001b[39;49m\u001b[38;5;124;43mconflicts10000\u001b[39;49m\u001b[38;5;124;43m\"\u001b[39;49m\u001b[43m)\u001b[49m\u001b[38;5;241;43m.\u001b[39;49m\u001b[43mfind_all\u001b[49m\u001b[43m(\u001b[49m\u001b[38;5;124;43m\"\u001b[39;49m\u001b[38;5;124;43mtd\u001b[39;49m\u001b[38;5;124;43m\"\u001b[39;49m\u001b[43m)\u001b[49m\u001b[38;5;241;43m.\u001b[39;49m\u001b[43mfind\u001b[49m\n\u001b[0;32m      2\u001b[0m \u001b[38;5;28mprint\u001b[39m(info)\n",
      "File \u001b[1;32mc:\\Users\\Luis Ochoa\\AppData\\Local\\Programs\\Python\\Python313\\Lib\\site-packages\\bs4\\element.py:2433\u001b[0m, in \u001b[0;36mResultSet.__getattr__\u001b[1;34m(self, key)\u001b[0m\n\u001b[0;32m   2431\u001b[0m \u001b[38;5;28;01mdef\u001b[39;00m \u001b[38;5;21m__getattr__\u001b[39m(\u001b[38;5;28mself\u001b[39m, key):\n\u001b[0;32m   2432\u001b[0m \u001b[38;5;250m    \u001b[39m\u001b[38;5;124;03m\"\"\"Raise a helpful exception to explain a common code fix.\"\"\"\u001b[39;00m\n\u001b[1;32m-> 2433\u001b[0m     \u001b[38;5;28;01mraise\u001b[39;00m \u001b[38;5;167;01mAttributeError\u001b[39;00m(\n\u001b[0;32m   2434\u001b[0m         \u001b[38;5;124m\"\u001b[39m\u001b[38;5;124mResultSet object has no attribute \u001b[39m\u001b[38;5;124m'\u001b[39m\u001b[38;5;132;01m%s\u001b[39;00m\u001b[38;5;124m'\u001b[39m\u001b[38;5;124m. You\u001b[39m\u001b[38;5;124m'\u001b[39m\u001b[38;5;124mre probably treating a list of elements like a single element. Did you call find_all() when you meant to call find()?\u001b[39m\u001b[38;5;124m\"\u001b[39m \u001b[38;5;241m%\u001b[39m key\n\u001b[0;32m   2435\u001b[0m     )\n",
      "\u001b[1;31mAttributeError\u001b[0m: ResultSet object has no attribute 'find'. You're probably treating a list of elements like a single element. Did you call find_all() when you meant to call find()?"
     ]
    },
    {
     "ename": "",
     "evalue": "",
     "output_type": "error",
     "traceback": [
      "\u001b[1;31mThe Kernel crashed while executing code in the current cell or a previous cell. \n",
      "\u001b[1;31mPlease review the code in the cell(s) to identify a possible cause of the failure. \n",
      "\u001b[1;31mClick <a href='https://aka.ms/vscodeJupyterKernelCrash'>here</a> for more info. \n",
      "\u001b[1;31mView Jupyter <a href='command:jupyter.viewOutput'>log</a> for further details."
     ]
    }
   ],
   "source": [
    "info = soup.find(\"table\", id=\"conflicts10000\").find_all(\"td\").find\n",
    "print(info)"
   ]
  },
  {
   "cell_type": "markdown",
   "id": "a8bc8bcb",
   "metadata": {},
   "source": [
    "***Describe analysis here.***"
   ]
  },
  {
   "cell_type": "code",
   "execution_count": 1,
   "id": "69c67502",
   "metadata": {},
   "outputs": [],
   "source": [
    "# Alternate between code for analysis and markdown descriptions of your analysis\n",
    "# Add more code or markdown cells if needed to fully explain analysis"
   ]
  },
  {
   "cell_type": "markdown",
   "id": "4d93cfe1",
   "metadata": {},
   "source": [
    "***Describe analysis here.***"
   ]
  },
  {
   "cell_type": "code",
   "execution_count": 2,
   "id": "94e3fabf",
   "metadata": {},
   "outputs": [],
   "source": [
    "# Add more code/markdown cells here if you need them."
   ]
  }
 ],
 "metadata": {
  "kernelspec": {
   "display_name": "Python 3",
   "language": "python",
   "name": "python3"
  },
  "language_info": {
   "codemirror_mode": {
    "name": "ipython",
    "version": 3
   },
   "file_extension": ".py",
   "mimetype": "text/x-python",
   "name": "python",
   "nbconvert_exporter": "python",
   "pygments_lexer": "ipython3",
   "version": "3.13.0"
  }
 },
 "nbformat": 4,
 "nbformat_minor": 5
}
