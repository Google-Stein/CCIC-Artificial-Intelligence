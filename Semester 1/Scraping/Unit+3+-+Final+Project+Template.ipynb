{
 "cells": [
  {
   "cell_type": "markdown",
   "id": "9919c268",
   "metadata": {},
   "source": [
    "# Choose a Data Set\n",
    "\n",
    "Create your own dataset by scraping one of the following websites *(level 5)*:\n",
    "- [Wikipedia](https://www.wikipedia.org/)\n",
    "- [OpenLibrary](https://openlibrary.org/)\n",
    "\n",
    "**OR** \n",
    "\n",
    "Use data gathered from one of the following APIs *(level 4)*: \n",
    "- [TMDB](https://developer.themoviedb.org/reference/intro/getting-started)\n",
    "- [College Scorecard](https://collegescorecard.ed.gov/data/api-documentation/)\n",
    "\n",
    "**OR** \n",
    "\n",
    "Pick a JSON dataset *(level 3)*:\n",
    "- [Food/Restaurant Data](https://drive.google.com/drive/folders/1V94S6WpclvQmbnW88KVMD4EruryA1oma?usp=drive_link)\n",
    "- [Fashion Data](https://drive.google.com/drive/folders/1V8SbFjtRRW8WVf3xBzg0gzLjOtMhHea_?usp=drive_link)\n",
    "\n",
    "**OR** \n",
    "\n",
    "Pick a CSV dataset *(level 2)*:\n",
    "- [LA Parking Tickets](https://drive.google.com/drive/folders/1vaOfwMi6QmZEGsXr8VM0ulPGzvTTBCgm?usp=drive_link)\n",
    "- [Hotels](https://drive.google.com/drive/folders/1IpVFxgwBJvJHKoOuBsk6WK2qYqFYP4hi?usp=drive_link)"
   ]
  },
  {
   "cell_type": "markdown",
   "id": "ae147ea6",
   "metadata": {},
   "source": [
    "# My Question\n",
    "### Write your question here."
   ]
  },
  {
   "cell_type": "markdown",
   "id": "149f324f",
   "metadata": {},
   "source": [
    "# What is the expected number of 2024 casualties in any chosen war"
   ]
  },
  {
   "cell_type": "code",
   "execution_count": 40,
   "id": "b228559e",
   "metadata": {},
   "outputs": [
    {
     "name": "stdout",
     "output_type": "stream",
     "text": [
      "Page Title: List of ongoing armed conflicts - Wikipedia\n"
     ]
    }
   ],
   "source": [
    "import requests\n",
    "from bs4 import BeautifulSoup as bs\n",
    "import pandas as pd\n",
    "\n",
    "url = \"https://en.wikipedia.org/wiki/List_of_ongoing_armed_conflicts\"\n",
    "\n",
    "response = requests.get(url)\n",
    "soup = bs(response.text, 'html.parser')\n",
    "\n",
    "page_title = soup.title.string\n",
    "print(\"Page Title:\", page_title)\n"
   ]
  },
  {
   "cell_type": "code",
   "execution_count": 46,
   "id": "8b695f8d",
   "metadata": {},
   "outputs": [
    {
     "name": "stdout",
     "output_type": "stream",
     "text": [
      "[<td style=\"text-align:center;\">1948\n",
      "</td>, <td><style data-mw-deduplicate=\"TemplateStyles:r1116488514\">.mw-parser-output .treeview ul{padding:0;margin:0}.mw-parser-output .treeview li{padding:0;margin:0;list-style-type:none;list-style-image:none}.mw-parser-output .treeview li li{background:url(\"https://upload.wikimedia.org/wikipedia/commons/f/f2/Treeview-grey-line.png\")no-repeat 0 -2981px;padding-left:21px;text-indent:0.3em}.mw-parser-output .treeview li li:last-child{background-position:0 -5971px}.mw-parser-output .treeview li.emptyline>ul>.mw-empty-elt:first-child+.emptyline,.mw-parser-output .treeview li.emptyline>ul>li:first-child{background-position:0 9px}</style><div class=\"treeview\">\n",
      "<ul><li><a href=\"/wiki/Myanmar_conflict\" title=\"Myanmar conflict\">Myanmar conflict</a>\n",
      "<ul><li><a href=\"/wiki/Rohingya_conflict\" title=\"Rohingya conflict\">Rohingya conflict</a>\n",
      "<ul><li><a href=\"/wiki/Conflict_in_Rakhine_State_(2016%E2%80%93present)\" title=\"Conflict in Rakhine State (2016–present)\">Rakhine State conflict</a></li></ul></li>\n",
      "<li><a href=\"/wiki/Karen_conflict\" title=\"Karen conflict\">Karen conflict</a></li>\n",
      "<li><a href=\"/wiki/Kachin_conflict\" title=\"Kachin conflict\">Kachin conflict</a></li>\n",
      "<li><a href=\"/wiki/Myanmar_civil_war_(2021%E2%80%93present)\" title=\"Myanmar civil war (2021–present)\">Myanmar civil war</a></li></ul></li></ul></div>\n",
      "</td>, <td><a href=\"/wiki/Asia\" title=\"Asia\">Asia</a>\n",
      "</td>, <td><a href=\"/wiki/Myanmar\" title=\"Myanmar\">Myanmar</a>\n",
      "</td>, <td>28,672<sup class=\"reference\" id=\"cite_ref-:0_3-0\"><a href=\"#cite_note-:0-3\"><span class=\"cite-bracket\">[</span>3<span class=\"cite-bracket\">]</span></a></sup>–<span data-sort-value=\"7005180000000000000♠\">180,000</span>+<sup class=\"reference\" id=\"cite_ref-PERI_20Jul11_4-0\"><a href=\"#cite_note-PERI_20Jul11-4\"><span class=\"cite-bracket\">[</span>4<span class=\"cite-bracket\">]</span></a></sup><sup class=\"reference\" id=\"cite_ref-acled_dashboard_5-0\"><a href=\"#cite_note-acled_dashboard-5\"><span class=\"cite-bracket\">[</span>5<span class=\"cite-bracket\">]</span></a></sup>\n",
      "</td>, <td>3,065<sup class=\"reference\" id=\"cite_ref-:0_3-1\"><a href=\"#cite_note-:0-3\"><span class=\"cite-bracket\">[</span>3<span class=\"cite-bracket\">]</span></a></sup>–<span data-sort-value=\"7004157730000000000♠\">15,773</span><sup class=\"reference\" id=\"cite_ref-acleddata.com_6-0\"><a href=\"#cite_note-acleddata.com-6\"><span class=\"cite-bracket\">[</span>6<span class=\"cite-bracket\">]</span></a></sup><sup class=\"reference\" id=\"cite_ref-7\"><a href=\"#cite_note-7\"><span class=\"cite-bracket\">[</span>7<span class=\"cite-bracket\">]</span></a></sup><sup class=\"reference\" id=\"cite_ref-8\"><a href=\"#cite_note-8\"><span class=\"cite-bracket\">[</span>8<span class=\"cite-bracket\">]</span></a></sup><sup class=\"reference\" id=\"cite_ref-9\"><a href=\"#cite_note-9\"><span class=\"cite-bracket\">[</span>9<span class=\"cite-bracket\">]</span></a></sup>\n",
      "</td>, <td><span data-sort-value=\"7004179390000000000♠\">17,939</span><sup class=\"reference\" id=\"cite_ref-acled_dashboard_5-1\"><a href=\"#cite_note-acled_dashboard-5\"><span class=\"cite-bracket\">[</span>5<span class=\"cite-bracket\">]</span></a></sup>\n",
      "</td>, <td style=\"text-align:center;\">1948\n",
      "</td>, <td><link href=\"mw-data:TemplateStyles:r1116488514\" rel=\"mw-deduplicated-inline-style\"/><div class=\"treeview\">\n",
      "<ul><li><a href=\"/wiki/Arab%E2%80%93Israeli_conflict\" title=\"Arab–Israeli conflict\">Arab–Israeli conflict</a>\n",
      "<ul><li><a href=\"/wiki/Israeli%E2%80%93Palestinian_conflict\" title=\"Israeli–Palestinian conflict\">Israeli–Palestinian conflict</a>\n",
      "<ul><li><a href=\"/wiki/Gaza%E2%80%93Israel_conflict\" title=\"Gaza–Israel conflict\">Gaza–Israel conflict</a>\n",
      "<ul><li><a href=\"/wiki/Israel%E2%80%93Hamas_war\" title=\"Israel–Hamas war\">Israel–Hamas war</a></li></ul></li></ul></li>\n",
      "<li><a href=\"/wiki/Israeli%E2%80%93Lebanese_conflict\" title=\"Israeli–Lebanese conflict\">Israeli–Lebanese conflict</a>\n",
      "<ul><li><a href=\"/wiki/Hezbollah%E2%80%93Israel_conflict\" title=\"Hezbollah–Israel conflict\">Hezbollah–Israel conflict</a>\n",
      "<ul><li><a href=\"/wiki/2024_Israeli_invasion_of_Lebanon\" title=\"2024 Israeli invasion of Lebanon\">2024 Israeli invasion of Lebanon</a></li></ul></li></ul></li>\n",
      "<li><a href=\"/wiki/Iran%E2%80%93Israel_proxy_conflict\" title=\"Iran–Israel proxy conflict\">Iran–Israel proxy conflict</a></li>\n",
      "<li><a href=\"/wiki/Red_Sea_crisis\" title=\"Red Sea crisis\">Red Sea crisis</a></li></ul></li></ul>\n",
      "</div>\n",
      "</td>, <td><a href=\"/wiki/Asia\" title=\"Asia\">Asia</a>\n",
      "</td>, <td><a href=\"/wiki/Israel\" title=\"Israel\">Israel</a><br/><a href=\"/wiki/State_of_Palestine\" title=\"State of Palestine\">Palestine</a><br/><a href=\"/wiki/Lebanon\" title=\"Lebanon\">Lebanon</a><br/><a href=\"/wiki/Syria\" title=\"Syria\">Syria</a><br/><a href=\"/wiki/Iraq\" title=\"Iraq\">Iraq</a><br/><a href=\"/wiki/Iran\" title=\"Iran\">Iran</a><br/><a href=\"/wiki/Yemen\" title=\"Yemen\">Yemen</a>\n",
      "</td>, <td><span data-sort-value=\"7005242000000000000♠\">242,000</span>–246,000+<sup class=\"reference\" id=\"cite_ref-CSP_10-0\"><a href=\"#cite_note-CSP-10\"><span class=\"cite-bracket\">[</span>10<span class=\"cite-bracket\">]</span></a></sup>\n",
      "</td>, <td><span data-sort-value=\"7004234240000000000♠\">23,424</span><sup class=\"reference\" id=\"cite_ref-:0_3-2\"><a href=\"#cite_note-:0-3\"><span class=\"cite-bracket\">[</span>3<span class=\"cite-bracket\">]</span></a></sup>–32,519<sup class=\"reference\" id=\"cite_ref-acleddata.com_6-1\"><a href=\"#cite_note-acleddata.com-6\"><span class=\"cite-bracket\">[</span>6<span class=\"cite-bracket\">]</span></a></sup><sup class=\"reference\" id=\"cite_ref-11\"><a href=\"#cite_note-11\"><span class=\"cite-bracket\">[</span>11<span class=\"cite-bracket\">]</span></a></sup>\n",
      "</td>, <td><span data-sort-value=\"7004291550000000000♠\">29,155</span><sup class=\"reference\" id=\"cite_ref-acled_dashboard_5-2\"><a href=\"#cite_note-acled_dashboard-5\"><span class=\"cite-bracket\">[</span>5<span class=\"cite-bracket\">]</span></a></sup><sup class=\"reference\" id=\"cite_ref-12\"><a href=\"#cite_note-12\"><span class=\"cite-bracket\">[</span>12<span class=\"cite-bracket\">]</span></a></sup><sup class=\"reference\" id=\"cite_ref-13\"><a href=\"#cite_note-13\"><span class=\"cite-bracket\">[</span>13<span class=\"cite-bracket\">]</span></a></sup><sup class=\"reference\" id=\"cite_ref-14\"><a href=\"#cite_note-14\"><span class=\"cite-bracket\">[</span>14<span class=\"cite-bracket\">]</span></a></sup><sup class=\"reference\" id=\"cite_ref-15\"><a href=\"#cite_note-15\"><span class=\"cite-bracket\">[</span>15<span class=\"cite-bracket\">]</span></a></sup><sup class=\"reference\" id=\"cite_ref-16\"><a href=\"#cite_note-16\"><span class=\"cite-bracket\">[</span>16<span class=\"cite-bracket\">]</span></a></sup>\n",
      "</td>, <td style=\"text-align:center;\">2002\n",
      "</td>, <td><link href=\"mw-data:TemplateStyles:r1116488514\" rel=\"mw-deduplicated-inline-style\"/><div class=\"treeview\">\n",
      "<ul><li><a href=\"/wiki/Insurgency_in_the_Maghreb_(2002%E2%80%93present)\" title=\"Insurgency in the Maghreb (2002–present)\">Insurgency in the Maghreb</a>\n",
      "<ul><li><a href=\"/wiki/Islamist_insurgency_in_the_Sahel\" title=\"Islamist insurgency in the Sahel\">Insurgency in the Sahel</a>\n",
      "<ul><li><a href=\"/wiki/Mali_War\" title=\"Mali War\">Mali War</a>\n",
      "<ul><li><a href=\"/wiki/Azawad_conflict\" title=\"Azawad conflict\">Azawad conflict</a></li></ul></li>\n",
      "<li><a href=\"/wiki/Jihadist_insurgency_in_Niger\" title=\"Jihadist insurgency in Niger\">Insurgency in Niger</a></li>\n",
      "<li><a class=\"mw-redirect\" href=\"/wiki/Jihadist_insurgency_in_Burkina_Faso\" title=\"Jihadist insurgency in Burkina Faso\">Insurgency in Burkina Faso</a></li>\n",
      "<li><a href=\"/wiki/JNIM-ISGS_war\" title=\"JNIM-ISGS war\">JNIM-ISGS war</a></li></ul></li></ul></li></ul>\n",
      "</div>\n",
      "</td>, <td><a href=\"/wiki/Africa\" title=\"Africa\">Africa</a>\n",
      "</td>, <td><a href=\"/wiki/Burkina_Faso\" title=\"Burkina Faso\">Burkina Faso</a><br/><a href=\"/wiki/Mali\" title=\"Mali\">Mali</a><br/><a href=\"/wiki/Niger\" title=\"Niger\">Niger</a><br/><a href=\"/wiki/Benin\" title=\"Benin\">Benin</a><br/><a href=\"/wiki/Togo\" title=\"Togo\">Togo</a><br/><a href=\"/wiki/Algeria\" title=\"Algeria\">Algeria</a><br/><a href=\"/wiki/Tunisia\" title=\"Tunisia\">Tunisia</a><br/><a href=\"/wiki/Chad\" title=\"Chad\">Chad</a><br/><a href=\"/wiki/Ivory_Coast\" title=\"Ivory Coast\">Ivory Coast</a><br/><a href=\"/wiki/Mauritania\" title=\"Mauritania\">Mauritania</a><br/><a href=\"/wiki/Ghana\" title=\"Ghana\">Ghana</a><br/><a href=\"/wiki/Nigeria\" title=\"Nigeria\">Nigeria</a><br/><a href=\"/wiki/Cameroon\" title=\"Cameroon\">Cameroon</a><br/><a href=\"/wiki/Morocco\" title=\"Morocco\">Morocco</a><br/><a href=\"/wiki/Libya\" title=\"Libya\">Libya</a>\n",
      "</td>, <td><span data-sort-value=\"7004700000000000000♠\">70,000</span>+<sup class=\"reference\" id=\"cite_ref-acled_dashboard_5-3\"><a href=\"#cite_note-acled_dashboard-5\"><span class=\"cite-bracket\">[</span>5<span class=\"cite-bracket\">]</span></a></sup><sup class=\"reference\" id=\"cite_ref-17\"><a href=\"#cite_note-17\"><span class=\"cite-bracket\">[</span>17<span class=\"cite-bracket\">]</span></a></sup><sup class=\"reference\" id=\"cite_ref-18\"><a href=\"#cite_note-18\"><span class=\"cite-bracket\">[</span>18<span class=\"cite-bracket\">]</span></a></sup><sup class=\"reference\" id=\"cite_ref-19\"><a href=\"#cite_note-19\"><span class=\"cite-bracket\">[</span>19<span class=\"cite-bracket\">]</span></a></sup><sup class=\"reference\" id=\"cite_ref-20\"><a href=\"#cite_note-20\"><span class=\"cite-bracket\">[</span>20<span class=\"cite-bracket\">]</span></a></sup>\n",
      "</td>, <td><span data-sort-value=\"7004147280000000000♠\">14,728</span><sup class=\"reference\" id=\"cite_ref-acleddata.com_6-2\"><a href=\"#cite_note-acleddata.com-6\"><span class=\"cite-bracket\">[</span>6<span class=\"cite-bracket\">]</span></a></sup><sup class=\"reference\" id=\"cite_ref-21\"><a href=\"#cite_note-21\"><span class=\"cite-bracket\">[</span>21<span class=\"cite-bracket\">]</span></a></sup>\n",
      "</td>, <td><span data-sort-value=\"7004129650000000000♠\">12,965</span><sup class=\"reference\" id=\"cite_ref-acled_dashboard_5-4\"><a href=\"#cite_note-acled_dashboard-5\"><span class=\"cite-bracket\">[</span>5<span class=\"cite-bracket\">]</span></a></sup><sup class=\"reference\" id=\"cite_ref-22\"><a href=\"#cite_note-22\"><span class=\"cite-bracket\">[</span>22<span class=\"cite-bracket\">]</span></a></sup>\n",
      "</td>, <td style=\"text-align:center;\">2006\n",
      "</td>, <td><link href=\"mw-data:TemplateStyles:r1116488514\" rel=\"mw-deduplicated-inline-style\"/><div class=\"treeview\">\n",
      "<ul><li><a href=\"/wiki/Mexican_drug_war\" title=\"Mexican drug war\">Mexican drug war</a>\n",
      "<ul><li><a href=\"/wiki/Infighting_in_the_Gulf_Cartel\" title=\"Infighting in the Gulf Cartel\">Gulf Cartel infighting</a></li>\n",
      "<li><a href=\"/wiki/Infighting_in_Los_Zetas\" title=\"Infighting in Los Zetas\">Los Zetas infighting</a></li></ul></li></ul>\n",
      "</div>\n",
      "</td>, <td><a href=\"/wiki/North_America\" title=\"North America\">North America</a>\n",
      "</td>, <td><a href=\"/wiki/Mexico\" title=\"Mexico\">Mexico</a>\n",
      "</td>, <td><span data-sort-value=\"7005127000000000000♠\">127,000</span><sup class=\"reference\" id=\"cite_ref-:0_3-3\"><a href=\"#cite_note-:0-3\"><span class=\"cite-bracket\">[</span>3<span class=\"cite-bracket\">]</span></a></sup>-407,000<sup class=\"reference\" id=\"cite_ref-UCDP_Mexico_23-0\"><a href=\"#cite_note-UCDP_Mexico-23\"><span class=\"cite-bracket\">[</span>23<span class=\"cite-bracket\">]</span></a></sup><sup class=\"reference\" id=\"cite_ref-25\"><a href=\"#cite_note-25\"><span class=\"cite-bracket\">[</span>a<span class=\"cite-bracket\">]</span></a></sup>\n",
      "</td>, <td><span data-sort-value=\"7003716800000000000♠\">7,168</span><sup class=\"reference\" id=\"cite_ref-acleddata.com_6-3\"><a href=\"#cite_note-acleddata.com-6\"><span class=\"cite-bracket\">[</span>6<span class=\"cite-bracket\">]</span></a></sup>–<span data-sort-value=\"7004138770000000000♠\">13,877</span><sup class=\"reference\" id=\"cite_ref-:0_3-4\"><a href=\"#cite_note-:0-3\"><span class=\"cite-bracket\">[</span>3<span class=\"cite-bracket\">]</span></a></sup>\n",
      "</td>, <td><span data-sort-value=\"7003743300000000000♠\">7,433</span><sup class=\"reference\" id=\"cite_ref-acled_dashboard_5-5\"><a href=\"#cite_note-acled_dashboard-5\"><span class=\"cite-bracket\">[</span>5<span class=\"cite-bracket\">]</span></a></sup>\n",
      "</td>, <td style=\"text-align:center;\">2014\n",
      "</td>, <td><link href=\"mw-data:TemplateStyles:r1116488514\" rel=\"mw-deduplicated-inline-style\"/><div class=\"treeview\">\n",
      "<ul><li><a href=\"/wiki/Russo-Ukrainian_War\" title=\"Russo-Ukrainian War\">Russo-Ukrainian War</a>\n",
      "<ul><li><a href=\"/wiki/Russian_invasion_of_Ukraine\" title=\"Russian invasion of Ukraine\">Russian invasion of Ukraine</a></li></ul></li></ul>\n",
      "</div>\n",
      "</td>, <td><a href=\"/wiki/Europe\" title=\"Europe\">Europe</a>\n",
      "</td>, <td><a href=\"/wiki/Russia\" title=\"Russia\">Russia</a><br/><a href=\"/wiki/Ukraine\" title=\"Ukraine\">Ukraine</a>\n",
      "</td>, <td><span data-sort-value=\"7005172226000000000♠\">172,226</span><sup class=\"reference\" id=\"cite_ref-26\"><a href=\"#cite_note-26\"><span class=\"cite-bracket\">[</span>25<span class=\"cite-bracket\">]</span></a></sup>–306,143+<sup class=\"reference\" id=\"cite_ref-27\"><a href=\"#cite_note-27\"><span class=\"cite-bracket\">[</span>26<span class=\"cite-bracket\">]</span></a></sup><sup class=\"reference\" id=\"cite_ref-28\"><a href=\"#cite_note-28\"><span class=\"cite-bracket\">[</span>27<span class=\"cite-bracket\">]</span></a></sup><sup class=\"reference\" id=\"cite_ref-29\"><a href=\"#cite_note-29\"><span class=\"cite-bracket\">[</span>28<span class=\"cite-bracket\">]</span></a></sup>\n",
      "</td>, <td><span data-sort-value=\"7004712350000000000♠\">71,235</span><sup class=\"reference\" id=\"cite_ref-:0_3-5\"><a href=\"#cite_note-:0-3\"><span class=\"cite-bracket\">[</span>3<span class=\"cite-bracket\">]</span></a></sup>–95,088+<sup class=\"reference\" id=\"cite_ref-30\"><a href=\"#cite_note-30\"><span class=\"cite-bracket\">[</span>29<span class=\"cite-bracket\">]</span></a></sup>\n",
      "</td>, <td><span data-sort-value=\"7004662180000000000♠\">66,218</span><sup class=\"reference\" id=\"cite_ref-acled_dashboard_5-6\"><a href=\"#cite_note-acled_dashboard-5\"><span class=\"cite-bracket\">[</span>5<span class=\"cite-bracket\">]</span></a></sup>\n",
      "</td>, <td style=\"text-align:center;\">2023\n",
      "</td>, <td><a href=\"/wiki/Sudanese_civil_war_(2023%E2%80%93present)\" title=\"Sudanese civil war (2023–present)\">Sudanese civil war</a>\n",
      "</td>, <td><a href=\"/wiki/Africa\" title=\"Africa\">Africa</a>\n",
      "</td>, <td><a href=\"/wiki/Sudan\" title=\"Sudan\">Sudan</a>\n",
      "</td>, <td><span data-sort-value=\"7005100000000000000♠\">100,000</span>–150,000<sup class=\"reference\" id=\"cite_ref-:0_3-6\"><a href=\"#cite_note-:0-3\"><span class=\"cite-bracket\">[</span>3<span class=\"cite-bracket\">]</span></a></sup><sup class=\"reference\" id=\"cite_ref-31\"><a href=\"#cite_note-31\"><span class=\"cite-bracket\">[</span>30<span class=\"cite-bracket\">]</span></a></sup><sup class=\"reference\" id=\"cite_ref-acleddata.com_6-4\"><a href=\"#cite_note-acleddata.com-6\"><span class=\"cite-bracket\">[</span>6<span class=\"cite-bracket\">]</span></a></sup><sup class=\"reference\" id=\"cite_ref-sudan_32-0\"><a href=\"#cite_note-sudan-32\"><span class=\"cite-bracket\">[</span>31<span class=\"cite-bracket\">]</span></a></sup>\n",
      "</td>, <td>7,757<sup class=\"reference\" id=\"cite_ref-:0_3-7\"><a href=\"#cite_note-:0-3\"><span class=\"cite-bracket\">[</span>3<span class=\"cite-bracket\">]</span></a></sup>–<span data-sort-value=\"7004132250000000000♠\">13,225</span><sup class=\"reference\" id=\"cite_ref-acleddata.com_6-5\"><a href=\"#cite_note-acleddata.com-6\"><span class=\"cite-bracket\">[</span>6<span class=\"cite-bracket\">]</span></a></sup><sup class=\"reference\" id=\"cite_ref-sudan_32-1\"><a href=\"#cite_note-sudan-32\"><span class=\"cite-bracket\">[</span>31<span class=\"cite-bracket\">]</span></a></sup><sup class=\"reference\" id=\"cite_ref-33\"><a href=\"#cite_note-33\"><span class=\"cite-bracket\">[</span>32<span class=\"cite-bracket\">]</span></a></sup>\n",
      "</td>, <td><span data-sort-value=\"7004127570000000000♠\">12,757</span><sup class=\"reference\" id=\"cite_ref-acled_dashboard_5-7\"><a href=\"#cite_note-acled_dashboard-5\"><span class=\"cite-bracket\">[</span>5<span class=\"cite-bracket\">]</span></a></sup>\n",
      "</td>]\n"
     ]
    }
   ],
   "source": [
    "info = soup.find(\"table\", id=\"conflicts10000\").find_all(\"td\").find\n",
    "print(info)"
   ]
  },
  {
   "cell_type": "markdown",
   "id": "a8bc8bcb",
   "metadata": {},
   "source": [
    "***Describe analysis here.***"
   ]
  },
  {
   "cell_type": "code",
   "execution_count": 1,
   "id": "69c67502",
   "metadata": {},
   "outputs": [],
   "source": [
    "# Alternate between code for analysis and markdown descriptions of your analysis\n",
    "# Add more code or markdown cells if needed to fully explain analysis"
   ]
  },
  {
   "cell_type": "markdown",
   "id": "4d93cfe1",
   "metadata": {},
   "source": [
    "***Describe analysis here.***"
   ]
  },
  {
   "cell_type": "code",
   "execution_count": 2,
   "id": "94e3fabf",
   "metadata": {},
   "outputs": [],
   "source": [
    "# Add more code/markdown cells here if you need them."
   ]
  }
 ],
 "metadata": {
  "kernelspec": {
   "display_name": "Python 3 (ipykernel)",
   "language": "python",
   "name": "python3"
  },
  "language_info": {
   "codemirror_mode": {
    "name": "ipython",
    "version": 3
   },
   "file_extension": ".py",
   "mimetype": "text/x-python",
   "name": "python",
   "nbconvert_exporter": "python",
   "pygments_lexer": "ipython3",
   "version": "3.9.13"
  }
 },
 "nbformat": 4,
 "nbformat_minor": 5
}
