{
 "cells": [
  {
   "cell_type": "code",
   "execution_count": 12,
   "id": "74371154",
   "metadata": {},
   "outputs": [],
   "source": [
    "from bs4 import BeautifulSoup\n",
    "import pandas as pd\n",
    "import requests\n",
    "\n",
    "url = 'https://www.scrapethissite.com/pages/forms/'\n",
    "response = requests.get(url)\n",
    "\n",
    "data = BeautifulSoup(response.text, 'html.parser')"
   ]
  },
  {
   "cell_type": "code",
   "execution_count": 13,
   "id": "ffa84936",
   "metadata": {},
   "outputs": [],
   "source": [
    "wins = data.find_all('td', class_='wins')\n",
    "teams = data.find_all('td', class_='name')"
   ]
  },
  {
   "cell_type": "code",
   "execution_count": 14,
   "id": "1737412c",
   "metadata": {},
   "outputs": [
    {
     "name": "stdout",
     "output_type": "stream",
     "text": [
      "                     Team Wins\n",
      "0           Boston Bruins   44\n",
      "1          Buffalo Sabres   31\n",
      "2          Calgary Flames   46\n",
      "3      Chicago Blackhawks   49\n",
      "4       Detroit Red Wings   34\n",
      "5         Edmonton Oilers   37\n",
      "6        Hartford Whalers   31\n",
      "7       Los Angeles Kings   46\n",
      "8   Minnesota North Stars   27\n",
      "9      Montreal Canadiens   39\n",
      "10      New Jersey Devils   32\n",
      "11     New York Islanders   25\n",
      "12       New York Rangers   36\n",
      "13    Philadelphia Flyers   33\n",
      "14    Pittsburgh Penguins   41\n",
      "15       Quebec Nordiques   16\n",
      "16        St. Louis Blues   47\n",
      "17    Toronto Maple Leafs   23\n",
      "18      Vancouver Canucks   28\n",
      "19    Washington Capitals   37\n",
      "20          Winnipeg Jets   26\n",
      "21          Boston Bruins   36\n",
      "22         Buffalo Sabres   31\n",
      "23         Calgary Flames   31\n",
      "24     Chicago Blackhawks   36\n"
     ]
    }
   ],
   "source": [
    "team_names = []\n",
    "team_wins = []\n",
    "for team, win in zip(teams, wins):\n",
    "    team_names.append(team.get_text(strip=True))  # Get the name of the team\n",
    "    team_wins.append(win.get_text(strip=True))    # Get the number of wins\n",
    "\n",
    "data = pd.DataFrame({\n",
    "    'Team': team_names,\n",
    "    'Wins': team_wins\n",
    "})\n",
    "\n",
    "print(data)"
   ]
  },
  {
   "cell_type": "code",
   "execution_count": 25,
   "id": "af539bac",
   "metadata": {},
   "outputs": [
    {
     "name": "stdout",
     "output_type": "stream",
     "text": [
      "Probability of teams with 30+ wins: 0.76\n"
     ]
    }
   ],
   "source": [
    "data['Wins'] = pd.to_numeric(data['Wins'], errors='coerce')\n",
    "\n",
    "games30 = data['Wins'] >= 30\n",
    "\n",
    "total_rows = len(data)\n",
    "games30count = games30.sum()\n",
    "\n",
    "probability = games30count / total_rows\n",
    "print(f\"Probability of teams with 30+ wins: {probability:.2f}\")"
   ]
  },
  {
   "cell_type": "code",
   "execution_count": 29,
   "id": "626330f3",
   "metadata": {},
   "outputs": [
    {
     "name": "stdout",
     "output_type": "stream",
     "text": [
      "Probability of finding three consecutive teams with 30+ wins: 0.39\n"
     ]
    }
   ],
   "source": [
    "def calculate_probability_of_three_consecutive_teams_with_30_wins(data):\n",
    "    games30 = data['Wins'] >= 30\n",
    "\n",
    "    count_consecutive_triplets = 0\n",
    "    total_triplets = len(games30) - 2\n",
    "    \n",
    "    for i in range(total_triplets):\n",
    "        if all(games30[i:i+3]):\n",
    "            count_consecutive_triplets += 1\n",
    "\n",
    "    if total_triplets == 0:\n",
    "        return 0.0\n",
    "    \n",
    "    probability = count_consecutive_triplets / total_triplets\n",
    "    return probability\n",
    "\n",
    "probability = calculate_probability_of_three_consecutive_teams_with_30_wins(data)\n",
    "\n",
    "print(f\"Probability of finding three consecutive teams with 30+ wins: {probability:.2f}\")"
   ]
  },
  {
   "cell_type": "code",
   "execution_count": null,
   "id": "5ffe8e46",
   "metadata": {},
   "outputs": [],
   "source": []
  }
 ],
 "metadata": {
  "kernelspec": {
   "display_name": "Python 3 (ipykernel)",
   "language": "python",
   "name": "python3"
  },
  "language_info": {
   "codemirror_mode": {
    "name": "ipython",
    "version": 3
   },
   "file_extension": ".py",
   "mimetype": "text/x-python",
   "name": "python",
   "nbconvert_exporter": "python",
   "pygments_lexer": "ipython3",
   "version": "3.9.13"
  }
 },
 "nbformat": 4,
 "nbformat_minor": 5
}
