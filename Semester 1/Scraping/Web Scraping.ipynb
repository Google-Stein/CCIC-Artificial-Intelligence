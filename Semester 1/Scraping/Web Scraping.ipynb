{
 "cells": [
  {
   "cell_type": "code",
   "execution_count": 2,
   "id": "e6855221",
   "metadata": {},
   "outputs": [],
   "source": [
    "from bs4 import BeautifulSoup\n",
    "import requests\n",
    "\n",
    "url = 'https://www.scrapethissite.com/pages/simple/'\n",
    "response = requests.get(url)\n",
    "\n",
    "data = BeautifulSoup(response.text, 'html.parser')"
   ]
  },
  {
   "cell_type": "code",
   "execution_count": 6,
   "id": "baa63121",
   "metadata": {
    "scrolled": true
   },
   "outputs": [],
   "source": [
    "def returnletterpercent(data, letter):\n",
    "    country_names = data.find_all('h3', class_='country-name')\n",
    "\n",
    "    aTrue = 0\n",
    "    aAll = 0\n",
    "    for country in country_names:\n",
    "        country_name = country.get_text(strip=True)\n",
    "        if 'a' in country_name.lower():\n",
    "            aTrue += 1\n",
    "            aAll += 1\n",
    "            print(f\"Country: {country_name} contains the letter 'a'\")\n",
    "        else:\n",
    "            aAll += 1\n",
    "            print(f\"Country: {country_name} does not contain the letter 'a'\")"
   ]
  },
  {
   "cell_type": "code",
   "execution_count": 7,
   "id": "e618849a",
   "metadata": {},
   "outputs": [
    {
     "ename": "NameError",
     "evalue": "name 'aTrue' is not defined",
     "output_type": "error",
     "traceback": [
      "\u001b[1;31m---------------------------------------------------------------------------\u001b[0m",
      "\u001b[1;31mNameError\u001b[0m                                 Traceback (most recent call last)",
      "\u001b[1;32m~\\AppData\\Local\\Temp\\ipykernel_27160\\1263669049.py\u001b[0m in \u001b[0;36m<module>\u001b[1;34m\u001b[0m\n\u001b[1;32m----> 1\u001b[1;33m \u001b[0mpercentAutil\u001b[0m \u001b[1;33m=\u001b[0m \u001b[1;33m(\u001b[0m\u001b[0maTrue\u001b[0m \u001b[1;33m/\u001b[0m \u001b[0maAll\u001b[0m\u001b[1;33m)\u001b[0m \u001b[1;33m*\u001b[0m \u001b[1;36m100\u001b[0m\u001b[1;33m\u001b[0m\u001b[1;33m\u001b[0m\u001b[0m\n\u001b[0m\u001b[0;32m      2\u001b[0m \u001b[0mprint\u001b[0m\u001b[1;33m(\u001b[0m\u001b[1;34m\"The percentage of country names that contain the letter A is\"\u001b[0m\u001b[1;33m,\u001b[0m\u001b[0mpercentAutil\u001b[0m\u001b[1;33m,\u001b[0m\u001b[1;34m\"%\"\u001b[0m\u001b[1;33m)\u001b[0m\u001b[1;33m\u001b[0m\u001b[1;33m\u001b[0m\u001b[0m\n",
      "\u001b[1;31mNameError\u001b[0m: name 'aTrue' is not defined"
     ]
    }
   ],
   "source": [
    "percentAutil = (aTrue / aAll) * 100\n",
    "print(\"The percentage of country names that contain the letter A is\",percentAutil,\"%\")"
   ]
  },
  {
   "cell_type": "code",
   "execution_count": null,
   "id": "6ec53d22",
   "metadata": {
    "scrolled": true
   },
   "outputs": [],
   "source": [
    "def returnletterpercent(data, letter): ##Function that does the same thing as above, but callable by ind. letter\n",
    "    country_names = data.find_all('h3', class_='country-name')\n",
    "\n",
    "    aTrue = 0\n",
    "    aAll = 0\n",
    "    for country in country_names:\n",
    "        country_name = country.get_text(strip=True)\n",
    "        if letter in country_name.lower():\n",
    "            aTrue += 1\n",
    "            aAll += 1\n",
    "            print(f\"Country: {country_name} contains the letter\", letter)\n",
    "        else:\n",
    "            aAll += 1\n",
    "            print(f\"Country: {country_name} does not contain the letter\", letter) \n",
    "    \n",
    "    percentAutil = (aTrue / aAll) * 100\n",
    "    print(\"The percentage of country names that contain the letter\",letter,\"is\",percentAutil,\"%\")\n",
    "    \n",
    "returnletterpercent(data, 'e')"
   ]
  },
  {
   "cell_type": "code",
   "execution_count": 5,
   "id": "830ae30e",
   "metadata": {},
   "outputs": [
    {
     "name": "stdout",
     "output_type": "stream",
     "text": [
      "['Andorra', 'United Arab Emirates', 'Afghanistan', 'Antigua and Barbuda', 'Anguilla', 'Albania', 'Armenia', 'Angola', 'Antarctica', 'Argentina', 'American Samoa', 'Austria', 'Australia', 'Aruba', 'Åland', 'Azerbaijan', 'Bosnia and Herzegovina', 'Barbados', 'Bangladesh', 'Burkina Faso', 'Bulgaria', 'Bahrain', 'Saint Barthélemy', 'Bermuda', 'Bolivia', 'Bonaire', 'Brazil', 'Bahamas', 'Bhutan', 'Bouvet Island', 'Botswana', 'Belarus', 'Canada', 'Cocos [Keeling] Islands', 'Democratic Republic of the Congo', 'Central African Republic', 'Switzerland', 'Ivory Coast', 'Cook Islands', 'Cameroon', 'China', 'Colombia', 'Costa Rica', 'Cuba', 'Cape Verde', 'Curacao', 'Christmas Island', 'Germany', 'Denmark', 'Dominica', 'Dominican Republic', 'Algeria', 'Ecuador', 'Estonia', 'Western Sahara', 'Eritrea', 'Spain', 'Ethiopia', 'Finland', 'Falkland Islands', 'Micronesia', 'Faroe Islands', 'France', 'Gabon', 'Grenada', 'Georgia', 'French Guiana', 'Ghana', 'Gibraltar', 'Greenland', 'Gambia', 'Guinea', 'Guadeloupe', 'Equatorial Guinea', 'South Georgia and the South Sandwich Islands', 'Guatemala', 'Guam', 'Guinea-Bissau', 'Guyana', 'Heard Island and McDonald Islands', 'Honduras', 'Croatia', 'Haiti', 'Hungary', 'Indonesia', 'Ireland', 'Israel', 'Isle of Man', 'India', 'British Indian Ocean Territory', 'Iraq', 'Iran', 'Iceland', 'Italy', 'Jamaica', 'Jordan', 'Japan', 'Kenya', 'Kyrgyzstan', 'Cambodia', 'Kiribati', 'Saint Kitts and Nevis', 'North Korea', 'South Korea', 'Kuwait', 'Cayman Islands', 'Kazakhstan', 'Laos', 'Lebanon', 'Saint Lucia', 'Sri Lanka', 'Liberia', 'Lithuania', 'Latvia', 'Libya', 'Monaco', 'Moldova', 'Saint Martin', 'Madagascar', 'Marshall Islands', 'Macedonia', 'Mali', 'Myanmar [Burma]', 'Mongolia', 'Macao', 'Northern Mariana Islands', 'Martinique', 'Mauritania', 'Montserrat', 'Malta', 'Mauritius', 'Maldives', 'Malawi', 'Malaysia', 'Mozambique', 'Namibia', 'New Caledonia', 'Norfolk Island', 'Nigeria', 'Nicaragua', 'Netherlands', 'Norway', 'Nepal', 'Nauru', 'New Zealand', 'Oman', 'Panama', 'French Polynesia', 'Papua New Guinea', 'Pakistan', 'Poland', 'Saint Pierre and Miquelon', 'Pitcairn Islands', 'Palestine', 'Portugal', 'Palau', 'Paraguay', 'Qatar', 'Romania', 'Serbia', 'Russia', 'Rwanda', 'Saudi Arabia', 'Solomon Islands', 'Sudan', 'Singapore', 'Saint Helena', 'Slovenia', 'Svalbard and Jan Mayen', 'Slovakia', 'Sierra Leone', 'San Marino', 'Senegal', 'Somalia', 'Suriname', 'South Sudan', 'São Tomé and Príncipe', 'El Salvador', 'Sint Maarten', 'Syria', 'Swaziland', 'Turks and Caicos Islands', 'Chad', 'Thailand', 'Tajikistan', 'Tokelau', 'East Timor', 'Turkmenistan', 'Tunisia', 'Tonga', 'Trinidad and Tobago', 'Tuvalu', 'Taiwan', 'Tanzania', 'Ukraine', 'Uganda', 'U.S. Minor Outlying Islands', 'United States', 'Uruguay', 'Uzbekistan', 'Vatican City', 'Saint Vincent and the Grenadines', 'Venezuela', 'British Virgin Islands', 'U.S. Virgin Islands', 'Vietnam', 'Vanuatu', 'Wallis and Futuna', 'Samoa', 'Mayotte', 'South Africa', 'Zambia', 'Zimbabwe']\n"
     ]
    }
   ],
   "source": [
    "selected_countries = []\n",
    "letter = 'a'\n",
    "country_names = data.find_all('h3', class_='country-name')\n",
    "for country in country_names:\n",
    "    country_name = country.get_text(strip=True)\n",
    "    if letter in country_name.lower():\n",
    "        selected_countries.append(country_name)\n",
    "        \n",
    "print(selected_countries)"
   ]
  },
  {
   "cell_type": "code",
   "execution_count": null,
   "id": "b8097ed0",
   "metadata": {},
   "outputs": [],
   "source": [
    "\n",
    "    "
   ]
  },
  {
   "cell_type": "code",
   "execution_count": null,
   "id": "ac9c0390",
   "metadata": {},
   "outputs": [],
   "source": []
  }
 ],
 "metadata": {
  "kernelspec": {
   "display_name": "Python 3 (ipykernel)",
   "language": "python",
   "name": "python3"
  },
  "language_info": {
   "codemirror_mode": {
    "name": "ipython",
    "version": 3
   },
   "file_extension": ".py",
   "mimetype": "text/x-python",
   "name": "python",
   "nbconvert_exporter": "python",
   "pygments_lexer": "ipython3",
   "version": "3.12.4"
  }
 },
 "nbformat": 4,
 "nbformat_minor": 5
}
