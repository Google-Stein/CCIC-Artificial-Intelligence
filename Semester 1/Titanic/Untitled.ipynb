{
 "cells": [
  {
   "cell_type": "code",
   "execution_count": 44,
   "id": "237ea1de",
   "metadata": {},
   "outputs": [],
   "source": [
    "import pandas as pd\n",
    "import seaborn as sns\n",
    "data = pd.read_csv('titanic.csv')\n",
    "Total = 0\n",
    "AliveS = 0\n",
    "DiedS = 0\n",
    "AliveC = 0\n",
    "DiedC = 0\n",
    "AliveQ = 0\n",
    "DiedQ = 0\n",
    "\n",
    "for idx in range(len(data)):\n",
    "    if data.loc[idx][\"Survived\"] == 1 and data.loc[idx][\"Embarked\"] == \"S\":\n",
    "        AliveS += 1\n",
    "    if data.loc[idx][\"Survived\"] == 0 and data.loc[idx][\"Embarked\"] == \"S\":\n",
    "        DiedS += 1\n",
    "    if data.loc[idx][\"Survived\"] == 1 and data.loc[idx][\"Embarked\"] == \"C\":\n",
    "        AliveC += 1\n",
    "    if data.loc[idx][\"Survived\"] == 0 and data.loc[idx][\"Embarked\"] == \"C\":\n",
    "        DiedC += 1\n",
    "    if data.loc[idx][\"Survived\"] == 1 and data.loc[idx][\"Embarked\"] == \"Q\":\n",
    "        AliveQ += 1\n",
    "    if data.loc[idx][\"Survived\"] == 0 and data.loc[idx][\"Embarked\"] == \"Q\":\n",
    "        DiedQ += 1\n",
    "        \n",
    "\n"
   ]
  },
  {
   "cell_type": "code",
   "execution_count": 39,
   "id": "67f5c0e5",
   "metadata": {},
   "outputs": [
    {
     "data": {
      "text/html": [
       "<div>\n",
       "<style scoped>\n",
       "    .dataframe tbody tr th:only-of-type {\n",
       "        vertical-align: middle;\n",
       "    }\n",
       "\n",
       "    .dataframe tbody tr th {\n",
       "        vertical-align: top;\n",
       "    }\n",
       "\n",
       "    .dataframe thead th {\n",
       "        text-align: right;\n",
       "    }\n",
       "</style>\n",
       "<table border=\"1\" class=\"dataframe\">\n",
       "  <thead>\n",
       "    <tr style=\"text-align: right;\">\n",
       "      <th></th>\n",
       "      <th>S</th>\n",
       "      <th>Q</th>\n",
       "      <th>C</th>\n",
       "      <th>U</th>\n",
       "      <th>Total</th>\n",
       "    </tr>\n",
       "  </thead>\n",
       "  <tbody>\n",
       "    <tr>\n",
       "      <th>Survived</th>\n",
       "      <td>0.336957</td>\n",
       "      <td>0.375</td>\n",
       "      <td>0.553571</td>\n",
       "      <td>1.0</td>\n",
       "      <td>342</td>\n",
       "    </tr>\n",
       "    <tr>\n",
       "      <th>Died</th>\n",
       "      <td>0.663043</td>\n",
       "      <td>0.625</td>\n",
       "      <td>0.446429</td>\n",
       "      <td>0.0</td>\n",
       "      <td>552</td>\n",
       "    </tr>\n",
       "    <tr>\n",
       "      <th>Total</th>\n",
       "      <td>644.000000</td>\n",
       "      <td>80.000</td>\n",
       "      <td>168.000000</td>\n",
       "      <td>2.0</td>\n",
       "      <td>894</td>\n",
       "    </tr>\n",
       "  </tbody>\n",
       "</table>\n",
       "</div>"
      ],
      "text/plain": [
       "                   S       Q           C    U  Total\n",
       "Survived    0.336957   0.375    0.553571  1.0    342\n",
       "Died        0.663043   0.625    0.446429  0.0    552\n",
       "Total     644.000000  80.000  168.000000  2.0    894"
      ]
     },
     "execution_count": 39,
     "metadata": {},
     "output_type": "execute_result"
    }
   ],
   "source": [
    "survived = {\"S\": 0, \"C\": 0, \"Q\": 0, \"U\": 0}\n",
    "died = {\"S\": 0, \"C\": 0, \"Q\": 0, \"U\": 0}\n",
    "\n",
    "for idx in range(len(data)):\n",
    "    city = data.loc[idx][\"Embarked\"]\n",
    "    if data.loc[idx][\"Survived\"] == 1:\n",
    "        if city in [\"S\", \"C\", \"Q\"]:\n",
    "            survived[city] += 1\n",
    "        else:\n",
    "            survived[\"U\"] += 1\n",
    "    else:\n",
    "        if city in [\"S\", \"C\", \"Q\"]:\n",
    "            died[city] += 1\n",
    "        else:\n",
    "            died[\"U\"] += 1\n",
    "conTable = {\n",
    "    \"S\":[survived[\"S\"]/(survived[\"S\"] + died[\"S\"]), died[\"S\"]/(survived[\"S\"] + died[\"S\"]), survived[\"S\"] + died[\"S\"]],\n",
    "    \"Q\":[survived[\"Q\"]/(survived[\"Q\"] + died[\"Q\"]), died[\"Q\"]/(survived[\"Q\"] + died[\"Q\"]), survived[\"Q\"] + died[\"Q\"]],\n",
    "    \"C\":[survived[\"C\"]/(survived[\"C\"] + died[\"C\"]), died[\"C\"]/(survived[\"C\"] + died[\"C\"]), survived[\"C\"] + died[\"C\"]],\n",
    "    \"U\":[survived[\"U\"]/(survived[\"U\"] + died[\"U\"]), died[\"U\"]/(survived[\"U\"] + died[\"U\"]), survived[\"U\"] + died[\"U\"]],\n",
    "    \"Total\": [survived[\"S\"] + survived[\"Q\"] + survived[\"C\"] + survived[\"U\"],\n",
    "              died[\"S\"] + died[\"Q\"] + died[\"C\"] + died[\"U\"], len(data)]\n",
    "}\n",
    "\n",
    "conTable = pd.DataFrame(conTable)\n",
    "conTable.index = [\"Survived\", \"Died\", \"Total\"]\n",
    "conTable.head()"
   ]
  },
  {
   "cell_type": "code",
   "execution_count": 45,
   "id": "085b03a9",
   "metadata": {},
   "outputs": [
    {
     "data": {
      "text/plain": [
       "<seaborn.axisgrid.PairGrid at 0x21e988440d0>"
      ]
     },
     "execution_count": 45,
     "metadata": {},
     "output_type": "execute_result"
    }
   ],
   "source": [
    "import seaborn as sns\n",
    "df = sns.load_dataset(\"penguins\")\n",
    "sns.pairplot(df, hue=\"species\")"
   ]
  },
  {
   "cell_type": "code",
   "execution_count": 46,
   "id": "c7cf4691",
   "metadata": {},
   "outputs": [
    {
     "ename": "NameError",
     "evalue": "name 'tips' is not defined",
     "output_type": "error",
     "traceback": [
      "\u001b[1;31m---------------------------------------------------------------------------\u001b[0m",
      "\u001b[1;31mNameError\u001b[0m                                 Traceback (most recent call last)",
      "\u001b[1;32m~\\AppData\\Local\\Temp\\ipykernel_18184\\2268256930.py\u001b[0m in \u001b[0;36m<module>\u001b[1;34m\u001b[0m\n\u001b[1;32m----> 1\u001b[1;33m \u001b[0msns\u001b[0m\u001b[1;33m.\u001b[0m\u001b[0mcatplot\u001b[0m\u001b[1;33m(\u001b[0m\u001b[0mdata\u001b[0m\u001b[1;33m=\u001b[0m\u001b[0mtips\u001b[0m\u001b[1;33m,\u001b[0m \u001b[0mkind\u001b[0m\u001b[1;33m=\u001b[0m\u001b[1;34m\"bar\"\u001b[0m\u001b[1;33m,\u001b[0m \u001b[0mx\u001b[0m\u001b[1;33m=\u001b[0m\u001b[1;34m\"day\"\u001b[0m\u001b[1;33m,\u001b[0m \u001b[0my\u001b[0m\u001b[1;33m=\u001b[0m\u001b[1;34m\"total_bill\"\u001b[0m\u001b[1;33m,\u001b[0m \u001b[0mhue\u001b[0m\u001b[1;33m=\u001b[0m\u001b[1;34m\"smoker\"\u001b[0m\u001b[1;33m)\u001b[0m\u001b[1;33m\u001b[0m\u001b[1;33m\u001b[0m\u001b[0m\n\u001b[0m",
      "\u001b[1;31mNameError\u001b[0m: name 'tips' is not defined"
     ]
    }
   ],
   "source": [
    "sns.catplot(data=tips, kind=\"bar\", x=\"day\", y=\"total_bill\", hue=\"smoker\")"
   ]
  },
  {
   "cell_type": "code",
   "execution_count": 51,
   "id": "7910473a",
   "metadata": {},
   "outputs": [],
   "source": [
    "tips = sns.load_dataset(\"titanic\")\n",
    "sns.relplot(\n",
    "    data=tips,\n",
    "    x=\"total_bill\", y=\"tip\", col=\"time\",\n",
    "    hue=\"smoker\", style=\"smoker\", size=\"size\",\n",
    ")"
   ]
  },
  {
   "cell_type": "code",
   "execution_count": 69,
   "id": "c2f6bf04",
   "metadata": {},
   "outputs": [
    {
     "data": {
      "text/plain": [
       "<bound method NDFrame.head of   Classes    Percent\n",
       "0   First  24.161074\n",
       "1  Second  20.581655\n",
       "2   Third  55.257271>"
      ]
     },
     "execution_count": 69,
     "metadata": {},
     "output_type": "execute_result"
    }
   ],
   "source": [
    "passengerClasses = {\"First\": 0, \"Second\": 0, \"Third\": 0}\n",
    "for passenger in data [\"Pclass\"]:\n",
    "    if passenger == 1:\n",
    "        passengerClasses[\"First\"] += 1\n",
    "    elif passenger == 2:\n",
    "        passengerClasses[\"Second\"] += 1\n",
    "    elif passenger == 3:\n",
    "        passengerClasses[\"Third\"] += 1\n",
    "        \n",
    "percentClasses = {\"First\": (passengerClasses[\"First\"]/len(data))*100,\n",
    "                    \"Second\":(passengerClasses[\"Second\"]/len(data))*100,\n",
    "                    \"Third\":(passengerClasses[\"Third\"]/len(data))*100\n",
    "                 }\n",
    "freqTable = {\n",
    "    \"Classes\": [\"First\", \"Second\", \"Third\"],\n",
    "    \"Percent\": [percentClasses[\"First\"], percentClasses[\"Second\"], percentClasses[\"Third\"]]\n",
    "    }\n",
    "\n",
    "freqTable = pd.DataFrame(freqTable)\n",
    "freqTable.head"
   ]
  },
  {
   "cell_type": "code",
   "execution_count": 72,
   "id": "c33a64d2",
   "metadata": {},
   "outputs": [
    {
     "data": {
      "text/plain": [
       "<AxesSubplot:title={'center':'time = Dinner'}, xlabel='Classes', ylabel='Percent'>"
      ]
     },
     "execution_count": 72,
     "metadata": {},
     "output_type": "execute_result"
    }
   ],
   "source": [
    "sns.barplot(data=freqTable, x=\"Classes\", y=\"Percent\")\n"
   ]
  },
  {
   "cell_type": "code",
   "execution_count": null,
   "id": "2a86515c",
   "metadata": {},
   "outputs": [],
   "source": []
  }
 ],
 "metadata": {
  "kernelspec": {
   "display_name": "Python 3 (ipykernel)",
   "language": "python",
   "name": "python3"
  },
  "language_info": {
   "codemirror_mode": {
    "name": "ipython",
    "version": 3
   },
   "file_extension": ".py",
   "mimetype": "text/x-python",
   "name": "python",
   "nbconvert_exporter": "python",
   "pygments_lexer": "ipython3",
   "version": "3.9.13"
  }
 },
 "nbformat": 4,
 "nbformat_minor": 5
}
